{
 "cells": [
  {
   "cell_type": "code",
   "execution_count": 2,
   "metadata": {},
   "outputs": [],
   "source": [
    "import pandas as pd\n",
    "import numpy as np\n",
    "\n",
    "import statsmodels.api as sm\n",
    "import statsmodels.formula.api as smf\n",
    "\n",
    "import seaborn as sns\n",
    "\n",
    "import matplotlib.pyplot as plt \n",
    "\n",
    "\n",
    "from sklearn.linear_model import LinearRegression\n",
    "from sklearn.linear_model import Ridge, Lasso\n",
    "\n",
    "from mpl_toolkits.mplot3d import axes3d, Axes3D\n",
    "\n",
    "from sklearn.metrics import r2_score\n",
    "\n",
    "from sklearn.metrics import mean_squared_error\n",
    "from sklearn.preprocessing import StandardScaler"
   ]
  },
  {
   "cell_type": "code",
   "execution_count": 4,
   "metadata": {},
   "outputs": [],
   "source": [
    "df = pd.read_csv('exercise.csv')"
   ]
  },
  {
   "cell_type": "code",
   "execution_count": 5,
   "metadata": {},
   "outputs": [],
   "source": [
    "train = df.iloc[:40]\n",
    "X_train = train.drop('y', axis=1)\n",
    "y_train = train['y']\n",
    "X_test = df.iloc[40:].drop('y', axis=1)"
   ]
  },
  {
   "cell_type": "code",
   "execution_count": 6,
   "metadata": {},
   "outputs": [],
   "source": [
    "results = smf.ols('y~x1+x2', data=df).fit()"
   ]
  },
  {
   "cell_type": "code",
   "execution_count": 7,
   "metadata": {},
   "outputs": [
    {
     "data": {
      "text/plain": [
       "Intercept    1.315135\n",
       "x1           0.514810\n",
       "x2           0.806920\n",
       "dtype: float64"
      ]
     },
     "execution_count": 7,
     "metadata": {},
     "output_type": "execute_result"
    }
   ],
   "source": [
    "wyn = results.params\n",
    "wyn"
   ]
  },
  {
   "cell_type": "code",
   "execution_count": 8,
   "metadata": {},
   "outputs": [
    {
     "data": {
      "text/plain": [
       "LinearRegression(copy_X=True, fit_intercept=True, n_jobs=None, normalize=False)"
      ]
     },
     "execution_count": 8,
     "metadata": {},
     "output_type": "execute_result"
    }
   ],
   "source": [
    "linmodel = LinearRegression()\n",
    "linmodel.fit(X_train, y_train)"
   ]
  },
  {
   "cell_type": "code",
   "execution_count": 9,
   "metadata": {},
   "outputs": [],
   "source": [
    "intercept = linmodel.intercept_\n",
    "weights = linmodel.coef_"
   ]
  },
  {
   "cell_type": "code",
   "execution_count": 10,
   "metadata": {},
   "outputs": [],
   "source": [
    "preds = linmodel.predict(X_train)"
   ]
  },
  {
   "cell_type": "code",
   "execution_count": 11,
   "metadata": {
    "scrolled": false
   },
   "outputs": [
    {
     "data": {
      "text/html": [
       "<table class=\"simpletable\">\n",
       "<caption>OLS Regression Results</caption>\n",
       "<tr>\n",
       "  <th>Dep. Variable:</th>            <td>y</td>        <th>  R-squared:         </th> <td>   0.972</td>\n",
       "</tr>\n",
       "<tr>\n",
       "  <th>Model:</th>                   <td>OLS</td>       <th>  Adj. R-squared:    </th> <td>   0.971</td>\n",
       "</tr>\n",
       "<tr>\n",
       "  <th>Method:</th>             <td>Least Squares</td>  <th>  F-statistic:       </th> <td>   652.4</td>\n",
       "</tr>\n",
       "<tr>\n",
       "  <th>Date:</th>             <td>Thu, 12 Dec 2019</td> <th>  Prob (F-statistic):</th> <td>1.41e-29</td>\n",
       "</tr>\n",
       "<tr>\n",
       "  <th>Time:</th>                 <td>22:39:06</td>     <th>  Log-Likelihood:    </th> <td> -50.985</td>\n",
       "</tr>\n",
       "<tr>\n",
       "  <th>No. Observations:</th>      <td>    40</td>      <th>  AIC:               </th> <td>   108.0</td>\n",
       "</tr>\n",
       "<tr>\n",
       "  <th>Df Residuals:</th>          <td>    37</td>      <th>  BIC:               </th> <td>   113.0</td>\n",
       "</tr>\n",
       "<tr>\n",
       "  <th>Df Model:</th>              <td>     2</td>      <th>                     </th>     <td> </td>   \n",
       "</tr>\n",
       "<tr>\n",
       "  <th>Covariance Type:</th>      <td>nonrobust</td>    <th>                     </th>     <td> </td>   \n",
       "</tr>\n",
       "</table>\n",
       "<table class=\"simpletable\">\n",
       "<tr>\n",
       "      <td></td>         <th>coef</th>     <th>std err</th>      <th>t</th>      <th>P>|t|</th>  <th>[0.025</th>    <th>0.975]</th>  \n",
       "</tr>\n",
       "<tr>\n",
       "  <th>Intercept</th> <td>    1.3151</td> <td>    0.388</td> <td>    3.392</td> <td> 0.002</td> <td>    0.530</td> <td>    2.101</td>\n",
       "</tr>\n",
       "<tr>\n",
       "  <th>x1</th>        <td>    0.5148</td> <td>    0.046</td> <td>   11.216</td> <td> 0.000</td> <td>    0.422</td> <td>    0.608</td>\n",
       "</tr>\n",
       "<tr>\n",
       "  <th>x2</th>        <td>    0.8069</td> <td>    0.024</td> <td>   33.148</td> <td> 0.000</td> <td>    0.758</td> <td>    0.856</td>\n",
       "</tr>\n",
       "</table>\n",
       "<table class=\"simpletable\">\n",
       "<tr>\n",
       "  <th>Omnibus:</th>       <td>14.478</td> <th>  Durbin-Watson:     </th> <td>   2.509</td>\n",
       "</tr>\n",
       "<tr>\n",
       "  <th>Prob(Omnibus):</th> <td> 0.001</td> <th>  Jarque-Bera (JB):  </th> <td>  15.393</td>\n",
       "</tr>\n",
       "<tr>\n",
       "  <th>Skew:</th>          <td> 1.341</td> <th>  Prob(JB):          </th> <td>0.000454</td>\n",
       "</tr>\n",
       "<tr>\n",
       "  <th>Kurtosis:</th>      <td> 4.428</td> <th>  Cond. No.          </th> <td>    38.7</td>\n",
       "</tr>\n",
       "</table><br/><br/>Warnings:<br/>[1] Standard Errors assume that the covariance matrix of the errors is correctly specified."
      ],
      "text/plain": [
       "<class 'statsmodels.iolib.summary.Summary'>\n",
       "\"\"\"\n",
       "                            OLS Regression Results                            \n",
       "==============================================================================\n",
       "Dep. Variable:                      y   R-squared:                       0.972\n",
       "Model:                            OLS   Adj. R-squared:                  0.971\n",
       "Method:                 Least Squares   F-statistic:                     652.4\n",
       "Date:                Thu, 12 Dec 2019   Prob (F-statistic):           1.41e-29\n",
       "Time:                        22:39:06   Log-Likelihood:                -50.985\n",
       "No. Observations:                  40   AIC:                             108.0\n",
       "Df Residuals:                      37   BIC:                             113.0\n",
       "Df Model:                           2                                         \n",
       "Covariance Type:            nonrobust                                         \n",
       "==============================================================================\n",
       "                 coef    std err          t      P>|t|      [0.025      0.975]\n",
       "------------------------------------------------------------------------------\n",
       "Intercept      1.3151      0.388      3.392      0.002       0.530       2.101\n",
       "x1             0.5148      0.046     11.216      0.000       0.422       0.608\n",
       "x2             0.8069      0.024     33.148      0.000       0.758       0.856\n",
       "==============================================================================\n",
       "Omnibus:                       14.478   Durbin-Watson:                   2.509\n",
       "Prob(Omnibus):                  0.001   Jarque-Bera (JB):               15.393\n",
       "Skew:                           1.341   Prob(JB):                     0.000454\n",
       "Kurtosis:                       4.428   Cond. No.                         38.7\n",
       "==============================================================================\n",
       "\n",
       "Warnings:\n",
       "[1] Standard Errors assume that the covariance matrix of the errors is correctly specified.\n",
       "\"\"\""
      ]
     },
     "execution_count": 11,
     "metadata": {},
     "output_type": "execute_result"
    }
   ],
   "source": [
    "results.summary()"
   ]
  },
  {
   "cell_type": "code",
   "execution_count": 12,
   "metadata": {},
   "outputs": [
    {
     "data": {
      "text/plain": [
       "0.74930538824643"
      ]
     },
     "execution_count": 12,
     "metadata": {},
     "output_type": "execute_result"
    }
   ],
   "source": [
    "mean_squared_error(y_train, preds)"
   ]
  },
  {
   "cell_type": "code",
   "execution_count": 13,
   "metadata": {},
   "outputs": [
    {
     "data": {
      "text/plain": [
       "0.9724240642757969"
      ]
     },
     "execution_count": 13,
     "metadata": {},
     "output_type": "execute_result"
    }
   ],
   "source": [
    "r2_score(y_train, preds)"
   ]
  },
  {
   "cell_type": "markdown",
   "metadata": {},
   "source": [
    "## Wnioski\n",
    "\n",
    "R2 dopasowanego modelu jest bardzo wysokie - opisuje prawie całą wariancję danych. Jest to jednak wynik dla danych treningowych, jako że nie mamy dostępu do prawdziwych wyników danych testowych."
   ]
  },
  {
   "cell_type": "code",
   "execution_count": 14,
   "metadata": {},
   "outputs": [],
   "source": [
    "def f(x, y):\n",
    "    final_array = []\n",
    "    \n",
    "    \n",
    "    for rowx, rowy in zip(x, y):\n",
    "        this_array = []\n",
    "        for pointx, pointy in zip(rowx, rowy):\n",
    "            this_array.append(intercept+pointx*weights[0]+pointy*weights[1])\n",
    "        final_array.append(this_array)\n",
    "    return final_array\n",
    "\n",
    "x = np.linspace(0, 10, 100)\n",
    "y = np.linspace(0, 20, 100)\n",
    "\n",
    "X, Y = np.meshgrid(x, y)\n",
    "Z = f(X, Y)"
   ]
  },
  {
   "cell_type": "code",
   "execution_count": 15,
   "metadata": {},
   "outputs": [
    {
     "data": {
      "image/png": "[encoded data removed]",
      "text/plain": [
       "<Figure size 432x288 with 1 Axes>"
      ]
     },
     "metadata": {
      "needs_background": "light"
     },
     "output_type": "display_data"
    }
   ],
   "source": [
    "fig = plt.figure()\n",
    "ax = plt.axes(projection='3d')\n",
    "ax.contour3D(X, Y, Z, 50, cmap='binary')\n",
    "ax.scatter3D(X_train['x1'], X_train['x2'], y_train, c=y_train, cmap='Greens');\n",
    "ax.set_xlabel('x1')\n",
    "ax.set_ylabel('x2')\n",
    "ax.set_zlabel('z');"
   ]
  },
  {
   "cell_type": "code",
   "execution_count": 16,
   "metadata": {},
   "outputs": [
    {
     "data": {
      "image/png": "[encoded data removed]",
      "text/plain": [
       "<Figure size 432x288 with 1 Axes>"
      ]
     },
     "execution_count": 16,
     "metadata": {},
     "output_type": "execute_result"
    }
   ],
   "source": [
    "ax.view_init(40, 35)\n",
    "fig"
   ]
  },
  {
   "cell_type": "code",
   "execution_count": 17,
   "metadata": {},
   "outputs": [],
   "source": [
    "residuas = y_train - preds"
   ]
  },
  {
   "cell_type": "markdown",
   "metadata": {},
   "source": [
    "## Residua zrzutowane dla X1"
   ]
  },
  {
   "cell_type": "code",
   "execution_count": 18,
   "metadata": {},
   "outputs": [
    {
     "data": {
      "text/plain": [
       "<matplotlib.axes._subplots.AxesSubplot at 0x1c289ead10>"
      ]
     },
     "execution_count": 18,
     "metadata": {},
     "output_type": "execute_result"
    },
    {
     "data": {
      "image/png": "[encoded data removed]",
      "text/plain": [
       "<Figure size 432x288 with 1 Axes>"
      ]
     },
     "metadata": {
      "needs_background": "light"
     },
     "output_type": "display_data"
    }
   ],
   "source": [
    "sns.scatterplot(x=X_train['x1'], y=residuas)"
   ]
  },
  {
   "cell_type": "markdown",
   "metadata": {},
   "source": [
    "## Residua zrzutowane dla X2"
   ]
  },
  {
   "cell_type": "code",
   "execution_count": 19,
   "metadata": {},
   "outputs": [
    {
     "data": {
      "text/plain": [
       "<matplotlib.axes._subplots.AxesSubplot at 0x1c289b9910>"
      ]
     },
     "execution_count": 19,
     "metadata": {},
     "output_type": "execute_result"
    },
    {
     "data": {
      "image/png": "[encoded data removed]",
      "text/plain": [
       "<Figure size 432x288 with 1 Axes>"
      ]
     },
     "metadata": {
      "needs_background": "light"
     },
     "output_type": "display_data"
    }
   ],
   "source": [
    "sns.scatterplot(x=X_train['x2'], y=residuas)"
   ]
  },
  {
   "cell_type": "code",
   "execution_count": 20,
   "metadata": {},
   "outputs": [
    {
     "data": {
      "text/plain": [
       "0.8656242766041339"
      ]
     },
     "execution_count": 20,
     "metadata": {},
     "output_type": "execute_result"
    }
   ],
   "source": [
    "np.std(residuas)"
   ]
  },
  {
   "cell_type": "markdown",
   "metadata": {},
   "source": [
    "## Wnioski\n",
    "\n",
    "Dla większości punktów wartość absolutna różnicy predykcji od rzecywistej wartości jest mniejsza od 1. Poniżej 1 jest też odchylenie standardowe residuów oraz MSE - wydaje się żę założenia zostały spełnione."
   ]
  },
  {
   "cell_type": "markdown",
   "metadata": {},
   "source": [
    "# Prognozy"
   ]
  },
  {
   "cell_type": "code",
   "execution_count": 21,
   "metadata": {},
   "outputs": [],
   "source": [
    "preds = linmodel.predict(X_test)"
   ]
  },
  {
   "cell_type": "markdown",
   "metadata": {},
   "source": [
    "## Wnioski z prognoz\n",
    "Dane ze zbioru testowego zawierają się w obszarze który jest dobrze reprezentowany przez dane treningowe, których wariancję dobrze opisuje model. Widać to na wykresach przedstawionych poniżej. Można więc być pewnym prognoz."
   ]
  },
  {
   "cell_type": "code",
   "execution_count": 23,
   "metadata": {
    "scrolled": true
   },
   "outputs": [
    {
     "data": {
      "text/plain": [
       "<matplotlib.legend.Legend at 0x1c28b921d0>"
      ]
     },
     "execution_count": 23,
     "metadata": {},
     "output_type": "execute_result"
    },
    {
     "data": {
      "image/png": "[encoded data removed]",
      "text/plain": [
       "<Figure size 432x288 with 1 Axes>"
      ]
     },
     "metadata": {
      "needs_background": "light"
     },
     "output_type": "display_data"
    }
   ],
   "source": [
    "sns.scatterplot(x=X_train['x1'], y=X_train['x2'])\n",
    "sns.scatterplot(x=X_test['x1'], y=X_test['x2'])\n",
    "plt.legend(['Dane treningowe', 'Dane testowe'])"
   ]
  },
  {
   "cell_type": "code",
   "execution_count": 349,
   "metadata": {},
   "outputs": [
    {
     "data": {
      "text/plain": [
       "<matplotlib.legend.Legend at 0x1c2ea0f290>"
      ]
     },
     "execution_count": 349,
     "metadata": {},
     "output_type": "execute_result"
    },
    {
     "data": {
      "image/png": "[encoded data removed]",
      "text/plain": [
       "<Figure size 432x288 with 1 Axes>"
      ]
     },
     "metadata": {
      "needs_background": "light"
     },
     "output_type": "display_data"
    }
   ],
   "source": [
    "fig = plt.figure()\n",
    "ax = plt.axes(projection='3d')\n",
    "ax.scatter3D(X_train['x1'], X_train['x2'], y_train, c=y_train, cmap='Greens');\n",
    "ax.scatter3D(X_test['x1'], X_test['x2'], preds, c=preds, cmap='magma');\n",
    "ax.set_xlabel('x1')\n",
    "ax.set_ylabel('x2')\n",
    "ax.set_zlabel('z');\n",
    "\n",
    "\n",
    "plt.legend(['Dane treningowe', 'Dane testowe'])"
   ]
  },
  {
   "cell_type": "code",
   "execution_count": 352,
   "metadata": {
    "scrolled": true
   },
   "outputs": [
    {
     "data": {
      "image/png": "[encoded data removed]",
      "text/plain": [
       "<Figure size 432x288 with 1 Axes>"
      ]
     },
     "execution_count": 352,
     "metadata": {},
     "output_type": "execute_result"
    }
   ],
   "source": [
    "ax.view_init(40, 35)\n",
    "fig"
   ]
  },
  {
   "cell_type": "markdown",
   "metadata": {},
   "source": [
    "## Wnioski z prognoz\n",
    "Dane ze zbioru testowego zawierają się w obszarze który jest dobrze reprezentowany przez dane treningowe, których wariancję dobrze opisuje model. Można więc być pewnym prognoz."
   ]
  },
  {
   "cell_type": "markdown",
   "metadata": {},
   "source": [
    "# Zadanie 2"
   ]
  },
  {
   "cell_type": "code",
   "execution_count": 24,
   "metadata": {},
   "outputs": [],
   "source": [
    "from sklearn.model_selection import train_test_split"
   ]
  },
  {
   "cell_type": "code",
   "execution_count": 25,
   "metadata": {},
   "outputs": [],
   "source": [
    "df2 = pd.read_csv('../../beauty.csv')"
   ]
  },
  {
   "cell_type": "code",
   "execution_count": 5,
   "metadata": {
    "scrolled": false
   },
   "outputs": [
    {
     "data": {
      "text/html": [
       "<div>\n",
       "<style scoped>\n",
       "    .dataframe tbody tr th:only-of-type {\n",
       "        vertical-align: middle;\n",
       "    }\n",
       "\n",
       "    .dataframe tbody tr th {\n",
       "        vertical-align: top;\n",
       "    }\n",
       "\n",
       "    .dataframe thead th {\n",
       "        text-align: right;\n",
       "    }\n",
       "</style>\n",
       "<table border=\"1\" class=\"dataframe\">\n",
       "  <thead>\n",
       "    <tr style=\"text-align: right;\">\n",
       "      <th></th>\n",
       "      <th>tenured</th>\n",
       "      <th>profnumber</th>\n",
       "      <th>minority</th>\n",
       "      <th>age</th>\n",
       "      <th>beautyf2upper</th>\n",
       "      <th>beautyflowerdiv</th>\n",
       "      <th>beautyfupperdiv</th>\n",
       "      <th>beautym2upper</th>\n",
       "      <th>beautymlowerdiv</th>\n",
       "      <th>beautymupperdiv</th>\n",
       "      <th>...</th>\n",
       "      <th>nonenglish</th>\n",
       "      <th>onecredit</th>\n",
       "      <th>percentevaluating</th>\n",
       "      <th>profevaluation</th>\n",
       "      <th>students</th>\n",
       "      <th>tenuretrack</th>\n",
       "      <th>blkandwhite</th>\n",
       "      <th>btystdvariance</th>\n",
       "      <th>btystdavepos</th>\n",
       "      <th>btystdaveneg</th>\n",
       "    </tr>\n",
       "  </thead>\n",
       "  <tbody>\n",
       "    <tr>\n",
       "      <th>0</th>\n",
       "      <td>0</td>\n",
       "      <td>1</td>\n",
       "      <td>1</td>\n",
       "      <td>36</td>\n",
       "      <td>6</td>\n",
       "      <td>5</td>\n",
       "      <td>7</td>\n",
       "      <td>6</td>\n",
       "      <td>2</td>\n",
       "      <td>4</td>\n",
       "      <td>...</td>\n",
       "      <td>0</td>\n",
       "      <td>0</td>\n",
       "      <td>55.81395</td>\n",
       "      <td>4.7</td>\n",
       "      <td>43</td>\n",
       "      <td>1</td>\n",
       "      <td>0</td>\n",
       "      <td>2.129806</td>\n",
       "      <td>0.201567</td>\n",
       "      <td>0.000000</td>\n",
       "    </tr>\n",
       "    <tr>\n",
       "      <th>1</th>\n",
       "      <td>1</td>\n",
       "      <td>2</td>\n",
       "      <td>0</td>\n",
       "      <td>59</td>\n",
       "      <td>2</td>\n",
       "      <td>4</td>\n",
       "      <td>4</td>\n",
       "      <td>3</td>\n",
       "      <td>2</td>\n",
       "      <td>3</td>\n",
       "      <td>...</td>\n",
       "      <td>0</td>\n",
       "      <td>0</td>\n",
       "      <td>85.00000</td>\n",
       "      <td>4.6</td>\n",
       "      <td>20</td>\n",
       "      <td>1</td>\n",
       "      <td>0</td>\n",
       "      <td>1.386081</td>\n",
       "      <td>0.000000</td>\n",
       "      <td>-0.826081</td>\n",
       "    </tr>\n",
       "    <tr>\n",
       "      <th>2</th>\n",
       "      <td>1</td>\n",
       "      <td>3</td>\n",
       "      <td>0</td>\n",
       "      <td>51</td>\n",
       "      <td>5</td>\n",
       "      <td>5</td>\n",
       "      <td>2</td>\n",
       "      <td>3</td>\n",
       "      <td>2</td>\n",
       "      <td>3</td>\n",
       "      <td>...</td>\n",
       "      <td>0</td>\n",
       "      <td>0</td>\n",
       "      <td>100.00000</td>\n",
       "      <td>4.1</td>\n",
       "      <td>55</td>\n",
       "      <td>1</td>\n",
       "      <td>0</td>\n",
       "      <td>2.537435</td>\n",
       "      <td>0.000000</td>\n",
       "      <td>-0.660333</td>\n",
       "    </tr>\n",
       "    <tr>\n",
       "      <th>3</th>\n",
       "      <td>1</td>\n",
       "      <td>4</td>\n",
       "      <td>0</td>\n",
       "      <td>40</td>\n",
       "      <td>4</td>\n",
       "      <td>2</td>\n",
       "      <td>5</td>\n",
       "      <td>2</td>\n",
       "      <td>3</td>\n",
       "      <td>3</td>\n",
       "      <td>...</td>\n",
       "      <td>0</td>\n",
       "      <td>0</td>\n",
       "      <td>86.95652</td>\n",
       "      <td>4.5</td>\n",
       "      <td>46</td>\n",
       "      <td>1</td>\n",
       "      <td>0</td>\n",
       "      <td>1.760577</td>\n",
       "      <td>0.000000</td>\n",
       "      <td>-0.766312</td>\n",
       "    </tr>\n",
       "    <tr>\n",
       "      <th>4</th>\n",
       "      <td>0</td>\n",
       "      <td>5</td>\n",
       "      <td>0</td>\n",
       "      <td>31</td>\n",
       "      <td>9</td>\n",
       "      <td>7</td>\n",
       "      <td>9</td>\n",
       "      <td>6</td>\n",
       "      <td>7</td>\n",
       "      <td>6</td>\n",
       "      <td>...</td>\n",
       "      <td>0</td>\n",
       "      <td>0</td>\n",
       "      <td>87.50000</td>\n",
       "      <td>4.8</td>\n",
       "      <td>48</td>\n",
       "      <td>1</td>\n",
       "      <td>0</td>\n",
       "      <td>1.693100</td>\n",
       "      <td>1.421450</td>\n",
       "      <td>0.000000</td>\n",
       "    </tr>\n",
       "    <tr>\n",
       "      <th>...</th>\n",
       "      <td>...</td>\n",
       "      <td>...</td>\n",
       "      <td>...</td>\n",
       "      <td>...</td>\n",
       "      <td>...</td>\n",
       "      <td>...</td>\n",
       "      <td>...</td>\n",
       "      <td>...</td>\n",
       "      <td>...</td>\n",
       "      <td>...</td>\n",
       "      <td>...</td>\n",
       "      <td>...</td>\n",
       "      <td>...</td>\n",
       "      <td>...</td>\n",
       "      <td>...</td>\n",
       "      <td>...</td>\n",
       "      <td>...</td>\n",
       "      <td>...</td>\n",
       "      <td>...</td>\n",
       "      <td>...</td>\n",
       "      <td>...</td>\n",
       "    </tr>\n",
       "    <tr>\n",
       "      <th>458</th>\n",
       "      <td>0</td>\n",
       "      <td>93</td>\n",
       "      <td>0</td>\n",
       "      <td>32</td>\n",
       "      <td>9</td>\n",
       "      <td>6</td>\n",
       "      <td>6</td>\n",
       "      <td>5</td>\n",
       "      <td>7</td>\n",
       "      <td>8</td>\n",
       "      <td>...</td>\n",
       "      <td>0</td>\n",
       "      <td>0</td>\n",
       "      <td>42.85714</td>\n",
       "      <td>4.1</td>\n",
       "      <td>21</td>\n",
       "      <td>1</td>\n",
       "      <td>0</td>\n",
       "      <td>3.107088</td>\n",
       "      <td>1.143040</td>\n",
       "      <td>0.000000</td>\n",
       "    </tr>\n",
       "    <tr>\n",
       "      <th>459</th>\n",
       "      <td>0</td>\n",
       "      <td>93</td>\n",
       "      <td>0</td>\n",
       "      <td>32</td>\n",
       "      <td>9</td>\n",
       "      <td>6</td>\n",
       "      <td>6</td>\n",
       "      <td>5</td>\n",
       "      <td>7</td>\n",
       "      <td>8</td>\n",
       "      <td>...</td>\n",
       "      <td>0</td>\n",
       "      <td>0</td>\n",
       "      <td>60.46511</td>\n",
       "      <td>4.5</td>\n",
       "      <td>86</td>\n",
       "      <td>1</td>\n",
       "      <td>0</td>\n",
       "      <td>3.107088</td>\n",
       "      <td>1.143040</td>\n",
       "      <td>0.000000</td>\n",
       "    </tr>\n",
       "    <tr>\n",
       "      <th>460</th>\n",
       "      <td>0</td>\n",
       "      <td>94</td>\n",
       "      <td>1</td>\n",
       "      <td>42</td>\n",
       "      <td>7</td>\n",
       "      <td>3</td>\n",
       "      <td>8</td>\n",
       "      <td>4</td>\n",
       "      <td>4</td>\n",
       "      <td>6</td>\n",
       "      <td>...</td>\n",
       "      <td>1</td>\n",
       "      <td>0</td>\n",
       "      <td>77.61194</td>\n",
       "      <td>4.4</td>\n",
       "      <td>67</td>\n",
       "      <td>1</td>\n",
       "      <td>0</td>\n",
       "      <td>3.018447</td>\n",
       "      <td>0.332051</td>\n",
       "      <td>0.000000</td>\n",
       "    </tr>\n",
       "    <tr>\n",
       "      <th>461</th>\n",
       "      <td>0</td>\n",
       "      <td>94</td>\n",
       "      <td>1</td>\n",
       "      <td>42</td>\n",
       "      <td>7</td>\n",
       "      <td>3</td>\n",
       "      <td>8</td>\n",
       "      <td>4</td>\n",
       "      <td>4</td>\n",
       "      <td>6</td>\n",
       "      <td>...</td>\n",
       "      <td>1</td>\n",
       "      <td>0</td>\n",
       "      <td>81.81818</td>\n",
       "      <td>4.4</td>\n",
       "      <td>66</td>\n",
       "      <td>1</td>\n",
       "      <td>0</td>\n",
       "      <td>3.018447</td>\n",
       "      <td>0.332051</td>\n",
       "      <td>0.000000</td>\n",
       "    </tr>\n",
       "    <tr>\n",
       "      <th>462</th>\n",
       "      <td>0</td>\n",
       "      <td>94</td>\n",
       "      <td>1</td>\n",
       "      <td>42</td>\n",
       "      <td>7</td>\n",
       "      <td>3</td>\n",
       "      <td>8</td>\n",
       "      <td>4</td>\n",
       "      <td>4</td>\n",
       "      <td>6</td>\n",
       "      <td>...</td>\n",
       "      <td>1</td>\n",
       "      <td>1</td>\n",
       "      <td>80.00000</td>\n",
       "      <td>4.1</td>\n",
       "      <td>35</td>\n",
       "      <td>1</td>\n",
       "      <td>0</td>\n",
       "      <td>3.018447</td>\n",
       "      <td>0.332051</td>\n",
       "      <td>0.000000</td>\n",
       "    </tr>\n",
       "  </tbody>\n",
       "</table>\n",
       "<p>463 rows × 64 columns</p>\n",
       "</div>"
      ],
      "text/plain": [
       "     tenured  profnumber  minority  age  beautyf2upper  beautyflowerdiv  \\\n",
       "0          0           1         1   36              6                5   \n",
       "1          1           2         0   59              2                4   \n",
       "2          1           3         0   51              5                5   \n",
       "3          1           4         0   40              4                2   \n",
       "4          0           5         0   31              9                7   \n",
       "..       ...         ...       ...  ...            ...              ...   \n",
       "458        0          93         0   32              9                6   \n",
       "459        0          93         0   32              9                6   \n",
       "460        0          94         1   42              7                3   \n",
       "461        0          94         1   42              7                3   \n",
       "462        0          94         1   42              7                3   \n",
       "\n",
       "     beautyfupperdiv  beautym2upper  beautymlowerdiv  beautymupperdiv  ...  \\\n",
       "0                  7              6                2                4  ...   \n",
       "1                  4              3                2                3  ...   \n",
       "2                  2              3                2                3  ...   \n",
       "3                  5              2                3                3  ...   \n",
       "4                  9              6                7                6  ...   \n",
       "..               ...            ...              ...              ...  ...   \n",
       "458                6              5                7                8  ...   \n",
       "459                6              5                7                8  ...   \n",
       "460                8              4                4                6  ...   \n",
       "461                8              4                4                6  ...   \n",
       "462                8              4                4                6  ...   \n",
       "\n",
       "     nonenglish  onecredit  percentevaluating  profevaluation  students  \\\n",
       "0             0          0           55.81395             4.7        43   \n",
       "1             0          0           85.00000             4.6        20   \n",
       "2             0          0          100.00000             4.1        55   \n",
       "3             0          0           86.95652             4.5        46   \n",
       "4             0          0           87.50000             4.8        48   \n",
       "..          ...        ...                ...             ...       ...   \n",
       "458           0          0           42.85714             4.1        21   \n",
       "459           0          0           60.46511             4.5        86   \n",
       "460           1          0           77.61194             4.4        67   \n",
       "461           1          0           81.81818             4.4        66   \n",
       "462           1          1           80.00000             4.1        35   \n",
       "\n",
       "     tenuretrack  blkandwhite  btystdvariance  btystdavepos  btystdaveneg  \n",
       "0              1            0        2.129806      0.201567      0.000000  \n",
       "1              1            0        1.386081      0.000000     -0.826081  \n",
       "2              1            0        2.537435      0.000000     -0.660333  \n",
       "3              1            0        1.760577      0.000000     -0.766312  \n",
       "4              1            0        1.693100      1.421450      0.000000  \n",
       "..           ...          ...             ...           ...           ...  \n",
       "458            1            0        3.107088      1.143040      0.000000  \n",
       "459            1            0        3.107088      1.143040      0.000000  \n",
       "460            1            0        3.018447      0.332051      0.000000  \n",
       "461            1            0        3.018447      0.332051      0.000000  \n",
       "462            1            0        3.018447      0.332051      0.000000  \n",
       "\n",
       "[463 rows x 64 columns]"
      ]
     },
     "execution_count": 5,
     "metadata": {},
     "output_type": "execute_result"
    }
   ],
   "source": [
    "df2"
   ]
  },
  {
   "cell_type": "code",
   "execution_count": 26,
   "metadata": {},
   "outputs": [],
   "source": [
    "X = df2.drop('courseevaluation', axis=1)\n",
    "y = df2['courseevaluation']"
   ]
  },
  {
   "cell_type": "markdown",
   "metadata": {},
   "source": [
    "Nie standaryzujemy danych."
   ]
  },
  {
   "cell_type": "markdown",
   "metadata": {},
   "source": [
    "# Model na podstawie samego btystdave"
   ]
  },
  {
   "cell_type": "code",
   "execution_count": 8,
   "metadata": {},
   "outputs": [
    {
     "name": "stdout",
     "output_type": "stream",
     "text": [
      "0.0010754123673685223\n"
     ]
    }
   ],
   "source": [
    "X_train, X_test, y_train, y_test = train_test_split(X['btystdave'], y)\n",
    "\n",
    "linmodel1 = LinearRegression()\n",
    "\n",
    "linmodel1.fit([[i] for i in X_train], y_train)\n",
    "preds1 = linmodel1.predict([[i] for i in X_test])\n",
    "\n",
    "print(r2_score(y_test, preds1))"
   ]
  },
  {
   "cell_type": "markdown",
   "metadata": {},
   "source": [
    "Zmienna ta nie mówi nic o ocenie kursu - R2 jest bliskie zeru, co znaczy że podobny wynik osiągnęlibyśmy przewidując dla każdej obserwacji średnią wszystkich wyników. Dodatkowo umieszczony zostanie wykres residuów."
   ]
  },
  {
   "cell_type": "code",
   "execution_count": 9,
   "metadata": {},
   "outputs": [
    {
     "data": {
      "text/plain": [
       "<matplotlib.axes._subplots.AxesSubplot at 0x7feeb9d8b3c8>"
      ]
     },
     "execution_count": 9,
     "metadata": {},
     "output_type": "execute_result"
    },
    {
     "data": {
      "image/png": "[encoded data removed]",
      "text/plain": [
       "<Figure size 432x288 with 1 Axes>"
      ]
     },
     "metadata": {
      "needs_background": "light"
     },
     "output_type": "display_data"
    }
   ],
   "source": [
    "residua1 = preds1-y_test\n",
    "sns.scatterplot(x=X['btystdave'], y=residua1)"
   ]
  },
  {
   "cell_type": "markdown",
   "metadata": {},
   "source": [
    "# Model ze wszystkimi zmiennymi"
   ]
  },
  {
   "cell_type": "code",
   "execution_count": 10,
   "metadata": {},
   "outputs": [
    {
     "name": "stdout",
     "output_type": "stream",
     "text": [
      "0.8736348426485759\n"
     ]
    }
   ],
   "source": [
    "X_train2, X_test2, y_train2, y_test2 = train_test_split(X, y)\n",
    "linmodel2= LinearRegression()\n",
    "linmodel2.fit(X_train2, y_train2)\n",
    "\n",
    "preds2 = linmodel2.predict(X_test2)\n",
    "print(r2_score(y_test2, preds2))"
   ]
  },
  {
   "cell_type": "markdown",
   "metadata": {},
   "source": [
    "Mając wszystkie zmienne można znaleźć dość dobre dopasowanie. Sprawdźmy teraz które zmienne są najważniejsze. Dla regresji liniowej jednym ze sposobów zbadanie wag modelu."
   ]
  },
  {
   "cell_type": "code",
   "execution_count": 14,
   "metadata": {},
   "outputs": [
    {
     "data": {
      "text/plain": [
       "(63,)"
      ]
     },
     "execution_count": 14,
     "metadata": {},
     "output_type": "execute_result"
    }
   ],
   "source": [
    "np.shape(linmodel2.coef_)"
   ]
  },
  {
   "cell_type": "code",
   "execution_count": 22,
   "metadata": {
    "scrolled": true
   },
   "outputs": [
    {
     "data": {
      "text/html": [
       "<style  type=\"text/css\" >\n",
       "    #T_7a5870fc_1d07_11ea_af05_40b0340ebc6crow0_col0 {\n",
       "            background-color:  #004281;\n",
       "            color:  #f1f1f1;\n",
       "        }    #T_7a5870fc_1d07_11ea_af05_40b0340ebc6crow1_col0 {\n",
       "            background-color:  #004281;\n",
       "            color:  #f1f1f1;\n",
       "        }    #T_7a5870fc_1d07_11ea_af05_40b0340ebc6crow2_col0 {\n",
       "            background-color:  #004281;\n",
       "            color:  #f1f1f1;\n",
       "        }    #T_7a5870fc_1d07_11ea_af05_40b0340ebc6crow3_col0 {\n",
       "            background-color:  #004281;\n",
       "            color:  #f1f1f1;\n",
       "        }    #T_7a5870fc_1d07_11ea_af05_40b0340ebc6crow4_col0 {\n",
       "            background-color:  #005e94;\n",
       "            color:  #f1f1f1;\n",
       "        }    #T_7a5870fc_1d07_11ea_af05_40b0340ebc6crow5_col0 {\n",
       "            background-color:  #00263c;\n",
       "            color:  #f1f1f1;\n",
       "        }    #T_7a5870fc_1d07_11ea_af05_40b0340ebc6crow6_col0 {\n",
       "            background-color:  #004281;\n",
       "            color:  #f1f1f1;\n",
       "        }    #T_7a5870fc_1d07_11ea_af05_40b0340ebc6crow7_col0 {\n",
       "            background-color:  #001448;\n",
       "            color:  #f1f1f1;\n",
       "        }    #T_7a5870fc_1d07_11ea_af05_40b0340ebc6crow8_col0 {\n",
       "            background-color:  #00377a;\n",
       "            color:  #f1f1f1;\n",
       "        }    #T_7a5870fc_1d07_11ea_af05_40b0340ebc6crow9_col0 {\n",
       "            background-color:  #3399bb;\n",
       "            color:  #000000;\n",
       "        }    #T_7a5870fc_1d07_11ea_af05_40b0340ebc6crow10_col0 {\n",
       "            background-color:  #0072a1;\n",
       "            color:  #f1f1f1;\n",
       "        }    #T_7a5870fc_1d07_11ea_af05_40b0340ebc6crow11_col0 {\n",
       "            background-color:  #000055;\n",
       "            color:  #f1f1f1;\n",
       "        }    #T_7a5870fc_1d07_11ea_af05_40b0340ebc6crow12_col0 {\n",
       "            background-color:  #ffffff;\n",
       "            color:  #000000;\n",
       "        }    #T_7a5870fc_1d07_11ea_af05_40b0340ebc6crow13_col0 {\n",
       "            background-color:  #003e7e;\n",
       "            color:  #f1f1f1;\n",
       "        }    #T_7a5870fc_1d07_11ea_af05_40b0340ebc6crow14_col0 {\n",
       "            background-color:  #96cbdc;\n",
       "            color:  #000000;\n",
       "        }    #T_7a5870fc_1d07_11ea_af05_40b0340ebc6crow15_col0 {\n",
       "            background-color:  #00508a;\n",
       "            color:  #f1f1f1;\n",
       "        }    #T_7a5870fc_1d07_11ea_af05_40b0340ebc6crow16_col0 {\n",
       "            background-color:  #008000;\n",
       "            color:  #f1f1f1;\n",
       "        }    #T_7a5870fc_1d07_11ea_af05_40b0340ebc6crow17_col0 {\n",
       "            background-color:  #004281;\n",
       "            color:  #f1f1f1;\n",
       "        }    #T_7a5870fc_1d07_11ea_af05_40b0340ebc6crow18_col0 {\n",
       "            background-color:  #004281;\n",
       "            color:  #f1f1f1;\n",
       "        }    #T_7a5870fc_1d07_11ea_af05_40b0340ebc6crow19_col0 {\n",
       "            background-color:  #004281;\n",
       "            color:  #f1f1f1;\n",
       "        }    #T_7a5870fc_1d07_11ea_af05_40b0340ebc6crow20_col0 {\n",
       "            background-color:  #004281;\n",
       "            color:  #f1f1f1;\n",
       "        }    #T_7a5870fc_1d07_11ea_af05_40b0340ebc6crow21_col0 {\n",
       "            background-color:  #004281;\n",
       "            color:  #f1f1f1;\n",
       "        }    #T_7a5870fc_1d07_11ea_af05_40b0340ebc6crow22_col0 {\n",
       "            background-color:  #004281;\n",
       "            color:  #f1f1f1;\n",
       "        }    #T_7a5870fc_1d07_11ea_af05_40b0340ebc6crow23_col0 {\n",
       "            background-color:  #004281;\n",
       "            color:  #f1f1f1;\n",
       "        }    #T_7a5870fc_1d07_11ea_af05_40b0340ebc6crow24_col0 {\n",
       "            background-color:  #004281;\n",
       "            color:  #f1f1f1;\n",
       "        }    #T_7a5870fc_1d07_11ea_af05_40b0340ebc6crow25_col0 {\n",
       "            background-color:  #004281;\n",
       "            color:  #f1f1f1;\n",
       "        }    #T_7a5870fc_1d07_11ea_af05_40b0340ebc6crow26_col0 {\n",
       "            background-color:  #004281;\n",
       "            color:  #f1f1f1;\n",
       "        }    #T_7a5870fc_1d07_11ea_af05_40b0340ebc6crow27_col0 {\n",
       "            background-color:  #004281;\n",
       "            color:  #f1f1f1;\n",
       "        }    #T_7a5870fc_1d07_11ea_af05_40b0340ebc6crow28_col0 {\n",
       "            background-color:  #004281;\n",
       "            color:  #f1f1f1;\n",
       "        }    #T_7a5870fc_1d07_11ea_af05_40b0340ebc6crow29_col0 {\n",
       "            background-color:  #004281;\n",
       "            color:  #f1f1f1;\n",
       "        }    #T_7a5870fc_1d07_11ea_af05_40b0340ebc6crow30_col0 {\n",
       "            background-color:  #004281;\n",
       "            color:  #f1f1f1;\n",
       "        }    #T_7a5870fc_1d07_11ea_af05_40b0340ebc6crow31_col0 {\n",
       "            background-color:  #004281;\n",
       "            color:  #f1f1f1;\n",
       "        }    #T_7a5870fc_1d07_11ea_af05_40b0340ebc6crow32_col0 {\n",
       "            background-color:  #004281;\n",
       "            color:  #f1f1f1;\n",
       "        }    #T_7a5870fc_1d07_11ea_af05_40b0340ebc6crow33_col0 {\n",
       "            background-color:  #004281;\n",
       "            color:  #f1f1f1;\n",
       "        }    #T_7a5870fc_1d07_11ea_af05_40b0340ebc6crow34_col0 {\n",
       "            background-color:  #004281;\n",
       "            color:  #f1f1f1;\n",
       "        }    #T_7a5870fc_1d07_11ea_af05_40b0340ebc6crow35_col0 {\n",
       "            background-color:  #004281;\n",
       "            color:  #f1f1f1;\n",
       "        }    #T_7a5870fc_1d07_11ea_af05_40b0340ebc6crow36_col0 {\n",
       "            background-color:  #004281;\n",
       "            color:  #f1f1f1;\n",
       "        }    #T_7a5870fc_1d07_11ea_af05_40b0340ebc6crow37_col0 {\n",
       "            background-color:  #004281;\n",
       "            color:  #f1f1f1;\n",
       "        }    #T_7a5870fc_1d07_11ea_af05_40b0340ebc6crow38_col0 {\n",
       "            background-color:  #004281;\n",
       "            color:  #f1f1f1;\n",
       "        }    #T_7a5870fc_1d07_11ea_af05_40b0340ebc6crow39_col0 {\n",
       "            background-color:  #004281;\n",
       "            color:  #f1f1f1;\n",
       "        }    #T_7a5870fc_1d07_11ea_af05_40b0340ebc6crow40_col0 {\n",
       "            background-color:  #004281;\n",
       "            color:  #f1f1f1;\n",
       "        }    #T_7a5870fc_1d07_11ea_af05_40b0340ebc6crow41_col0 {\n",
       "            background-color:  #004281;\n",
       "            color:  #f1f1f1;\n",
       "        }    #T_7a5870fc_1d07_11ea_af05_40b0340ebc6crow42_col0 {\n",
       "            background-color:  #004281;\n",
       "            color:  #f1f1f1;\n",
       "        }    #T_7a5870fc_1d07_11ea_af05_40b0340ebc6crow43_col0 {\n",
       "            background-color:  #004281;\n",
       "            color:  #f1f1f1;\n",
       "        }    #T_7a5870fc_1d07_11ea_af05_40b0340ebc6crow44_col0 {\n",
       "            background-color:  #004281;\n",
       "            color:  #f1f1f1;\n",
       "        }    #T_7a5870fc_1d07_11ea_af05_40b0340ebc6crow45_col0 {\n",
       "            background-color:  #004281;\n",
       "            color:  #f1f1f1;\n",
       "        }    #T_7a5870fc_1d07_11ea_af05_40b0340ebc6crow46_col0 {\n",
       "            background-color:  #004281;\n",
       "            color:  #f1f1f1;\n",
       "        }    #T_7a5870fc_1d07_11ea_af05_40b0340ebc6crow47_col0 {\n",
       "            background-color:  #004281;\n",
       "            color:  #f1f1f1;\n",
       "        }    #T_7a5870fc_1d07_11ea_af05_40b0340ebc6crow48_col0 {\n",
       "            background-color:  #004281;\n",
       "            color:  #f1f1f1;\n",
       "        }    #T_7a5870fc_1d07_11ea_af05_40b0340ebc6crow49_col0 {\n",
       "            background-color:  #004281;\n",
       "            color:  #f1f1f1;\n",
       "        }    #T_7a5870fc_1d07_11ea_af05_40b0340ebc6crow50_col0 {\n",
       "            background-color:  #004281;\n",
       "            color:  #f1f1f1;\n",
       "        }    #T_7a5870fc_1d07_11ea_af05_40b0340ebc6crow51_col0 {\n",
       "            background-color:  #004281;\n",
       "            color:  #f1f1f1;\n",
       "        }    #T_7a5870fc_1d07_11ea_af05_40b0340ebc6crow52_col0 {\n",
       "            background-color:  #004281;\n",
       "            color:  #f1f1f1;\n",
       "        }    #T_7a5870fc_1d07_11ea_af05_40b0340ebc6crow53_col0 {\n",
       "            background-color:  #004281;\n",
       "            color:  #f1f1f1;\n",
       "        }    #T_7a5870fc_1d07_11ea_af05_40b0340ebc6crow54_col0 {\n",
       "            background-color:  #004281;\n",
       "            color:  #f1f1f1;\n",
       "        }    #T_7a5870fc_1d07_11ea_af05_40b0340ebc6crow55_col0 {\n",
       "            background-color:  #004281;\n",
       "            color:  #f1f1f1;\n",
       "        }    #T_7a5870fc_1d07_11ea_af05_40b0340ebc6crow56_col0 {\n",
       "            background-color:  #004281;\n",
       "            color:  #f1f1f1;\n",
       "        }    #T_7a5870fc_1d07_11ea_af05_40b0340ebc6crow57_col0 {\n",
       "            background-color:  #004281;\n",
       "            color:  #f1f1f1;\n",
       "        }    #T_7a5870fc_1d07_11ea_af05_40b0340ebc6crow58_col0 {\n",
       "            background-color:  #004281;\n",
       "            color:  #f1f1f1;\n",
       "        }    #T_7a5870fc_1d07_11ea_af05_40b0340ebc6crow59_col0 {\n",
       "            background-color:  #004281;\n",
       "            color:  #f1f1f1;\n",
       "        }    #T_7a5870fc_1d07_11ea_af05_40b0340ebc6crow60_col0 {\n",
       "            background-color:  #004281;\n",
       "            color:  #f1f1f1;\n",
       "        }    #T_7a5870fc_1d07_11ea_af05_40b0340ebc6crow61_col0 {\n",
       "            background-color:  #003075;\n",
       "            color:  #f1f1f1;\n",
       "        }    #T_7a5870fc_1d07_11ea_af05_40b0340ebc6crow62_col0 {\n",
       "            background-color:  #003075;\n",
       "            color:  #f1f1f1;\n",
       "        }</style><table id=\"T_7a5870fc_1d07_11ea_af05_40b0340ebc6c\" ><thead>    <tr>        <th class=\"blank level0\" ></th>        <th class=\"col_heading level0 col0\" >0</th>    </tr></thead><tbody>\n",
       "                <tr>\n",
       "                        <th id=\"T_7a5870fc_1d07_11ea_af05_40b0340ebc6clevel0_row0\" class=\"row_heading level0 row0\" >tenured</th>\n",
       "                        <td id=\"T_7a5870fc_1d07_11ea_af05_40b0340ebc6crow0_col0\" class=\"data row0 col0\" >-0.0207272</td>\n",
       "            </tr>\n",
       "            <tr>\n",
       "                        <th id=\"T_7a5870fc_1d07_11ea_af05_40b0340ebc6clevel0_row1\" class=\"row_heading level0 row1\" >profnumber</th>\n",
       "                        <td id=\"T_7a5870fc_1d07_11ea_af05_40b0340ebc6crow1_col0\" class=\"data row1 col0\" >0.000479282</td>\n",
       "            </tr>\n",
       "            <tr>\n",
       "                        <th id=\"T_7a5870fc_1d07_11ea_af05_40b0340ebc6clevel0_row2\" class=\"row_heading level0 row2\" >minority</th>\n",
       "                        <td id=\"T_7a5870fc_1d07_11ea_af05_40b0340ebc6crow2_col0\" class=\"data row2 col0\" >-0.0985885</td>\n",
       "            </tr>\n",
       "            <tr>\n",
       "                        <th id=\"T_7a5870fc_1d07_11ea_af05_40b0340ebc6clevel0_row3\" class=\"row_heading level0 row3\" >age</th>\n",
       "                        <td id=\"T_7a5870fc_1d07_11ea_af05_40b0340ebc6crow3_col0\" class=\"data row3 col0\" >0.00369877</td>\n",
       "            </tr>\n",
       "            <tr>\n",
       "                        <th id=\"T_7a5870fc_1d07_11ea_af05_40b0340ebc6clevel0_row4\" class=\"row_heading level0 row4\" >beautyf2upper</th>\n",
       "                        <td id=\"T_7a5870fc_1d07_11ea_af05_40b0340ebc6crow4_col0\" class=\"data row4 col0\" >17272</td>\n",
       "            </tr>\n",
       "            <tr>\n",
       "                        <th id=\"T_7a5870fc_1d07_11ea_af05_40b0340ebc6clevel0_row5\" class=\"row_heading level0 row5\" >beautyflowerdiv</th>\n",
       "                        <td id=\"T_7a5870fc_1d07_11ea_af05_40b0340ebc6crow5_col0\" class=\"data row5 col0\" >-61732</td>\n",
       "            </tr>\n",
       "            <tr>\n",
       "                        <th id=\"T_7a5870fc_1d07_11ea_af05_40b0340ebc6clevel0_row6\" class=\"row_heading level0 row6\" >beautyfupperdiv</th>\n",
       "                        <td id=\"T_7a5870fc_1d07_11ea_af05_40b0340ebc6crow6_col0\" class=\"data row6 col0\" >0.244709</td>\n",
       "            </tr>\n",
       "            <tr>\n",
       "                        <th id=\"T_7a5870fc_1d07_11ea_af05_40b0340ebc6clevel0_row7\" class=\"row_heading level0 row7\" >beautym2upper</th>\n",
       "                        <td id=\"T_7a5870fc_1d07_11ea_af05_40b0340ebc6crow7_col0\" class=\"data row7 col0\" >-51160.3</td>\n",
       "            </tr>\n",
       "            <tr>\n",
       "                        <th id=\"T_7a5870fc_1d07_11ea_af05_40b0340ebc6clevel0_row8\" class=\"row_heading level0 row8\" >beautymlowerdiv</th>\n",
       "                        <td id=\"T_7a5870fc_1d07_11ea_af05_40b0340ebc6crow8_col0\" class=\"data row8 col0\" >-6391.72</td>\n",
       "            </tr>\n",
       "            <tr>\n",
       "                        <th id=\"T_7a5870fc_1d07_11ea_af05_40b0340ebc6clevel0_row9\" class=\"row_heading level0 row9\" >beautymupperdiv</th>\n",
       "                        <td id=\"T_7a5870fc_1d07_11ea_af05_40b0340ebc6crow9_col0\" class=\"data row9 col0\" >51975.5</td>\n",
       "            </tr>\n",
       "            <tr>\n",
       "                        <th id=\"T_7a5870fc_1d07_11ea_af05_40b0340ebc6clevel0_row10\" class=\"row_heading level0 row10\" >btystdave</th>\n",
       "                        <td id=\"T_7a5870fc_1d07_11ea_af05_40b0340ebc6crow10_col0\" class=\"data row10 col0\" >28379.2</td>\n",
       "            </tr>\n",
       "            <tr>\n",
       "                        <th id=\"T_7a5870fc_1d07_11ea_af05_40b0340ebc6clevel0_row11\" class=\"row_heading level0 row11\" >btystdf2u</th>\n",
       "                        <td id=\"T_7a5870fc_1d07_11ea_af05_40b0340ebc6crow11_col0\" class=\"data row11 col0\" >-39141.9</td>\n",
       "            </tr>\n",
       "            <tr>\n",
       "                        <th id=\"T_7a5870fc_1d07_11ea_af05_40b0340ebc6clevel0_row12\" class=\"row_heading level0 row12\" >btystdfl</th>\n",
       "                        <td id=\"T_7a5870fc_1d07_11ea_af05_40b0340ebc6crow12_col0\" class=\"data row12 col0\" >113199</td>\n",
       "            </tr>\n",
       "            <tr>\n",
       "                        <th id=\"T_7a5870fc_1d07_11ea_af05_40b0340ebc6clevel0_row13\" class=\"row_heading level0 row13\" >btystdfu</th>\n",
       "                        <td id=\"T_7a5870fc_1d07_11ea_af05_40b0340ebc6crow13_col0\" class=\"data row13 col0\" >-2946.04</td>\n",
       "            </tr>\n",
       "            <tr>\n",
       "                        <th id=\"T_7a5870fc_1d07_11ea_af05_40b0340ebc6clevel0_row14\" class=\"row_heading level0 row14\" >btystdm2u</th>\n",
       "                        <td id=\"T_7a5870fc_1d07_11ea_af05_40b0340ebc6crow14_col0\" class=\"data row14 col0\" >81681.3</td>\n",
       "            </tr>\n",
       "            <tr>\n",
       "                        <th id=\"T_7a5870fc_1d07_11ea_af05_40b0340ebc6clevel0_row15\" class=\"row_heading level0 row15\" >btystdml</th>\n",
       "                        <td id=\"T_7a5870fc_1d07_11ea_af05_40b0340ebc6crow15_col0\" class=\"data row15 col0\" >7933.16</td>\n",
       "            </tr>\n",
       "            <tr>\n",
       "                        <th id=\"T_7a5870fc_1d07_11ea_af05_40b0340ebc6clevel0_row16\" class=\"row_heading level0 row16\" >btystdmu</th>\n",
       "                        <td id=\"T_7a5870fc_1d07_11ea_af05_40b0340ebc6crow16_col0\" class=\"data row16 col0\" >-116125</td>\n",
       "            </tr>\n",
       "            <tr>\n",
       "                        <th id=\"T_7a5870fc_1d07_11ea_af05_40b0340ebc6clevel0_row17\" class=\"row_heading level0 row17\" >class1</th>\n",
       "                        <td id=\"T_7a5870fc_1d07_11ea_af05_40b0340ebc6crow17_col0\" class=\"data row17 col0\" >-0.0110571</td>\n",
       "            </tr>\n",
       "            <tr>\n",
       "                        <th id=\"T_7a5870fc_1d07_11ea_af05_40b0340ebc6clevel0_row18\" class=\"row_heading level0 row18\" >class2</th>\n",
       "                        <td id=\"T_7a5870fc_1d07_11ea_af05_40b0340ebc6crow18_col0\" class=\"data row18 col0\" >0.111775</td>\n",
       "            </tr>\n",
       "            <tr>\n",
       "                        <th id=\"T_7a5870fc_1d07_11ea_af05_40b0340ebc6clevel0_row19\" class=\"row_heading level0 row19\" >class3</th>\n",
       "                        <td id=\"T_7a5870fc_1d07_11ea_af05_40b0340ebc6crow19_col0\" class=\"data row19 col0\" >-0.058079</td>\n",
       "            </tr>\n",
       "            <tr>\n",
       "                        <th id=\"T_7a5870fc_1d07_11ea_af05_40b0340ebc6clevel0_row20\" class=\"row_heading level0 row20\" >class4</th>\n",
       "                        <td id=\"T_7a5870fc_1d07_11ea_af05_40b0340ebc6crow20_col0\" class=\"data row20 col0\" >-0.0673601</td>\n",
       "            </tr>\n",
       "            <tr>\n",
       "                        <th id=\"T_7a5870fc_1d07_11ea_af05_40b0340ebc6clevel0_row21\" class=\"row_heading level0 row21\" >class5</th>\n",
       "                        <td id=\"T_7a5870fc_1d07_11ea_af05_40b0340ebc6crow21_col0\" class=\"data row21 col0\" >0.111242</td>\n",
       "            </tr>\n",
       "            <tr>\n",
       "                        <th id=\"T_7a5870fc_1d07_11ea_af05_40b0340ebc6clevel0_row22\" class=\"row_heading level0 row22\" >class6</th>\n",
       "                        <td id=\"T_7a5870fc_1d07_11ea_af05_40b0340ebc6crow22_col0\" class=\"data row22 col0\" >-0.0130678</td>\n",
       "            </tr>\n",
       "            <tr>\n",
       "                        <th id=\"T_7a5870fc_1d07_11ea_af05_40b0340ebc6clevel0_row23\" class=\"row_heading level0 row23\" >class7</th>\n",
       "                        <td id=\"T_7a5870fc_1d07_11ea_af05_40b0340ebc6crow23_col0\" class=\"data row23 col0\" >-0.159787</td>\n",
       "            </tr>\n",
       "            <tr>\n",
       "                        <th id=\"T_7a5870fc_1d07_11ea_af05_40b0340ebc6clevel0_row24\" class=\"row_heading level0 row24\" >class8</th>\n",
       "                        <td id=\"T_7a5870fc_1d07_11ea_af05_40b0340ebc6crow24_col0\" class=\"data row24 col0\" >0.404032</td>\n",
       "            </tr>\n",
       "            <tr>\n",
       "                        <th id=\"T_7a5870fc_1d07_11ea_af05_40b0340ebc6clevel0_row25\" class=\"row_heading level0 row25\" >class9</th>\n",
       "                        <td id=\"T_7a5870fc_1d07_11ea_af05_40b0340ebc6crow25_col0\" class=\"data row25 col0\" >-0.0376442</td>\n",
       "            </tr>\n",
       "            <tr>\n",
       "                        <th id=\"T_7a5870fc_1d07_11ea_af05_40b0340ebc6clevel0_row26\" class=\"row_heading level0 row26\" >class10</th>\n",
       "                        <td id=\"T_7a5870fc_1d07_11ea_af05_40b0340ebc6crow26_col0\" class=\"data row26 col0\" >0.0913566</td>\n",
       "            </tr>\n",
       "            <tr>\n",
       "                        <th id=\"T_7a5870fc_1d07_11ea_af05_40b0340ebc6clevel0_row27\" class=\"row_heading level0 row27\" >class11</th>\n",
       "                        <td id=\"T_7a5870fc_1d07_11ea_af05_40b0340ebc6crow27_col0\" class=\"data row27 col0\" >-0.256446</td>\n",
       "            </tr>\n",
       "            <tr>\n",
       "                        <th id=\"T_7a5870fc_1d07_11ea_af05_40b0340ebc6clevel0_row28\" class=\"row_heading level0 row28\" >class12</th>\n",
       "                        <td id=\"T_7a5870fc_1d07_11ea_af05_40b0340ebc6crow28_col0\" class=\"data row28 col0\" >-0.0976189</td>\n",
       "            </tr>\n",
       "            <tr>\n",
       "                        <th id=\"T_7a5870fc_1d07_11ea_af05_40b0340ebc6clevel0_row29\" class=\"row_heading level0 row29\" >class13</th>\n",
       "                        <td id=\"T_7a5870fc_1d07_11ea_af05_40b0340ebc6crow29_col0\" class=\"data row29 col0\" >-0.0651355</td>\n",
       "            </tr>\n",
       "            <tr>\n",
       "                        <th id=\"T_7a5870fc_1d07_11ea_af05_40b0340ebc6clevel0_row30\" class=\"row_heading level0 row30\" >class14</th>\n",
       "                        <td id=\"T_7a5870fc_1d07_11ea_af05_40b0340ebc6crow30_col0\" class=\"data row30 col0\" >0.293483</td>\n",
       "            </tr>\n",
       "            <tr>\n",
       "                        <th id=\"T_7a5870fc_1d07_11ea_af05_40b0340ebc6clevel0_row31\" class=\"row_heading level0 row31\" >class15</th>\n",
       "                        <td id=\"T_7a5870fc_1d07_11ea_af05_40b0340ebc6crow31_col0\" class=\"data row31 col0\" >-0.318227</td>\n",
       "            </tr>\n",
       "            <tr>\n",
       "                        <th id=\"T_7a5870fc_1d07_11ea_af05_40b0340ebc6clevel0_row32\" class=\"row_heading level0 row32\" >class16</th>\n",
       "                        <td id=\"T_7a5870fc_1d07_11ea_af05_40b0340ebc6crow32_col0\" class=\"data row32 col0\" >0.0367339</td>\n",
       "            </tr>\n",
       "            <tr>\n",
       "                        <th id=\"T_7a5870fc_1d07_11ea_af05_40b0340ebc6clevel0_row33\" class=\"row_heading level0 row33\" >class17</th>\n",
       "                        <td id=\"T_7a5870fc_1d07_11ea_af05_40b0340ebc6crow33_col0\" class=\"data row33 col0\" >0.197141</td>\n",
       "            </tr>\n",
       "            <tr>\n",
       "                        <th id=\"T_7a5870fc_1d07_11ea_af05_40b0340ebc6clevel0_row34\" class=\"row_heading level0 row34\" >class18</th>\n",
       "                        <td id=\"T_7a5870fc_1d07_11ea_af05_40b0340ebc6crow34_col0\" class=\"data row34 col0\" >0.293021</td>\n",
       "            </tr>\n",
       "            <tr>\n",
       "                        <th id=\"T_7a5870fc_1d07_11ea_af05_40b0340ebc6clevel0_row35\" class=\"row_heading level0 row35\" >class19</th>\n",
       "                        <td id=\"T_7a5870fc_1d07_11ea_af05_40b0340ebc6crow35_col0\" class=\"data row35 col0\" >-0.185605</td>\n",
       "            </tr>\n",
       "            <tr>\n",
       "                        <th id=\"T_7a5870fc_1d07_11ea_af05_40b0340ebc6clevel0_row36\" class=\"row_heading level0 row36\" >class20</th>\n",
       "                        <td id=\"T_7a5870fc_1d07_11ea_af05_40b0340ebc6crow36_col0\" class=\"data row36 col0\" >0.0186361</td>\n",
       "            </tr>\n",
       "            <tr>\n",
       "                        <th id=\"T_7a5870fc_1d07_11ea_af05_40b0340ebc6clevel0_row37\" class=\"row_heading level0 row37\" >class21</th>\n",
       "                        <td id=\"T_7a5870fc_1d07_11ea_af05_40b0340ebc6crow37_col0\" class=\"data row37 col0\" >0.042511</td>\n",
       "            </tr>\n",
       "            <tr>\n",
       "                        <th id=\"T_7a5870fc_1d07_11ea_af05_40b0340ebc6clevel0_row38\" class=\"row_heading level0 row38\" >class22</th>\n",
       "                        <td id=\"T_7a5870fc_1d07_11ea_af05_40b0340ebc6crow38_col0\" class=\"data row38 col0\" >-0.104799</td>\n",
       "            </tr>\n",
       "            <tr>\n",
       "                        <th id=\"T_7a5870fc_1d07_11ea_af05_40b0340ebc6clevel0_row39\" class=\"row_heading level0 row39\" >class23</th>\n",
       "                        <td id=\"T_7a5870fc_1d07_11ea_af05_40b0340ebc6crow39_col0\" class=\"data row39 col0\" >0.0735151</td>\n",
       "            </tr>\n",
       "            <tr>\n",
       "                        <th id=\"T_7a5870fc_1d07_11ea_af05_40b0340ebc6clevel0_row40\" class=\"row_heading level0 row40\" >class24</th>\n",
       "                        <td id=\"T_7a5870fc_1d07_11ea_af05_40b0340ebc6crow40_col0\" class=\"data row40 col0\" >0.00926958</td>\n",
       "            </tr>\n",
       "            <tr>\n",
       "                        <th id=\"T_7a5870fc_1d07_11ea_af05_40b0340ebc6clevel0_row41\" class=\"row_heading level0 row41\" >class25</th>\n",
       "                        <td id=\"T_7a5870fc_1d07_11ea_af05_40b0340ebc6crow41_col0\" class=\"data row41 col0\" >-0.189297</td>\n",
       "            </tr>\n",
       "            <tr>\n",
       "                        <th id=\"T_7a5870fc_1d07_11ea_af05_40b0340ebc6clevel0_row42\" class=\"row_heading level0 row42\" >class26</th>\n",
       "                        <td id=\"T_7a5870fc_1d07_11ea_af05_40b0340ebc6crow42_col0\" class=\"data row42 col0\" >0.202762</td>\n",
       "            </tr>\n",
       "            <tr>\n",
       "                        <th id=\"T_7a5870fc_1d07_11ea_af05_40b0340ebc6clevel0_row43\" class=\"row_heading level0 row43\" >class27</th>\n",
       "                        <td id=\"T_7a5870fc_1d07_11ea_af05_40b0340ebc6crow43_col0\" class=\"data row43 col0\" >-9.00099e-06</td>\n",
       "            </tr>\n",
       "            <tr>\n",
       "                        <th id=\"T_7a5870fc_1d07_11ea_af05_40b0340ebc6clevel0_row44\" class=\"row_heading level0 row44\" >class28</th>\n",
       "                        <td id=\"T_7a5870fc_1d07_11ea_af05_40b0340ebc6crow44_col0\" class=\"data row44 col0\" >-0.04739</td>\n",
       "            </tr>\n",
       "            <tr>\n",
       "                        <th id=\"T_7a5870fc_1d07_11ea_af05_40b0340ebc6clevel0_row45\" class=\"row_heading level0 row45\" >class29</th>\n",
       "                        <td id=\"T_7a5870fc_1d07_11ea_af05_40b0340ebc6crow45_col0\" class=\"data row45 col0\" >-0.185142</td>\n",
       "            </tr>\n",
       "            <tr>\n",
       "                        <th id=\"T_7a5870fc_1d07_11ea_af05_40b0340ebc6clevel0_row46\" class=\"row_heading level0 row46\" >class30</th>\n",
       "                        <td id=\"T_7a5870fc_1d07_11ea_af05_40b0340ebc6crow46_col0\" class=\"data row46 col0\" >-0.0995637</td>\n",
       "            </tr>\n",
       "            <tr>\n",
       "                        <th id=\"T_7a5870fc_1d07_11ea_af05_40b0340ebc6clevel0_row47\" class=\"row_heading level0 row47\" >didevaluation</th>\n",
       "                        <td id=\"T_7a5870fc_1d07_11ea_af05_40b0340ebc6crow47_col0\" class=\"data row47 col0\" >-0.0017924</td>\n",
       "            </tr>\n",
       "            <tr>\n",
       "                        <th id=\"T_7a5870fc_1d07_11ea_af05_40b0340ebc6clevel0_row48\" class=\"row_heading level0 row48\" >female</th>\n",
       "                        <td id=\"T_7a5870fc_1d07_11ea_af05_40b0340ebc6crow48_col0\" class=\"data row48 col0\" >-0.0298988</td>\n",
       "            </tr>\n",
       "            <tr>\n",
       "                        <th id=\"T_7a5870fc_1d07_11ea_af05_40b0340ebc6clevel0_row49\" class=\"row_heading level0 row49\" >formal</th>\n",
       "                        <td id=\"T_7a5870fc_1d07_11ea_af05_40b0340ebc6crow49_col0\" class=\"data row49 col0\" >0.0501122</td>\n",
       "            </tr>\n",
       "            <tr>\n",
       "                        <th id=\"T_7a5870fc_1d07_11ea_af05_40b0340ebc6clevel0_row50\" class=\"row_heading level0 row50\" >fulldept</th>\n",
       "                        <td id=\"T_7a5870fc_1d07_11ea_af05_40b0340ebc6crow50_col0\" class=\"data row50 col0\" >0.00332474</td>\n",
       "            </tr>\n",
       "            <tr>\n",
       "                        <th id=\"T_7a5870fc_1d07_11ea_af05_40b0340ebc6clevel0_row51\" class=\"row_heading level0 row51\" >lower</th>\n",
       "                        <td id=\"T_7a5870fc_1d07_11ea_af05_40b0340ebc6crow51_col0\" class=\"data row51 col0\" >0.00459816</td>\n",
       "            </tr>\n",
       "            <tr>\n",
       "                        <th id=\"T_7a5870fc_1d07_11ea_af05_40b0340ebc6clevel0_row52\" class=\"row_heading level0 row52\" >multipleclass</th>\n",
       "                        <td id=\"T_7a5870fc_1d07_11ea_af05_40b0340ebc6crow52_col0\" class=\"data row52 col0\" >-0.0104463</td>\n",
       "            </tr>\n",
       "            <tr>\n",
       "                        <th id=\"T_7a5870fc_1d07_11ea_af05_40b0340ebc6clevel0_row53\" class=\"row_heading level0 row53\" >nonenglish</th>\n",
       "                        <td id=\"T_7a5870fc_1d07_11ea_af05_40b0340ebc6crow53_col0\" class=\"data row53 col0\" >-0.140717</td>\n",
       "            </tr>\n",
       "            <tr>\n",
       "                        <th id=\"T_7a5870fc_1d07_11ea_af05_40b0340ebc6clevel0_row54\" class=\"row_heading level0 row54\" >onecredit</th>\n",
       "                        <td id=\"T_7a5870fc_1d07_11ea_af05_40b0340ebc6crow54_col0\" class=\"data row54 col0\" >0.0482134</td>\n",
       "            </tr>\n",
       "            <tr>\n",
       "                        <th id=\"T_7a5870fc_1d07_11ea_af05_40b0340ebc6clevel0_row55\" class=\"row_heading level0 row55\" >percentevaluating</th>\n",
       "                        <td id=\"T_7a5870fc_1d07_11ea_af05_40b0340ebc6crow55_col0\" class=\"data row55 col0\" >0.00185901</td>\n",
       "            </tr>\n",
       "            <tr>\n",
       "                        <th id=\"T_7a5870fc_1d07_11ea_af05_40b0340ebc6clevel0_row56\" class=\"row_heading level0 row56\" >profevaluation</th>\n",
       "                        <td id=\"T_7a5870fc_1d07_11ea_af05_40b0340ebc6crow56_col0\" class=\"data row56 col0\" >0.929896</td>\n",
       "            </tr>\n",
       "            <tr>\n",
       "                        <th id=\"T_7a5870fc_1d07_11ea_af05_40b0340ebc6clevel0_row57\" class=\"row_heading level0 row57\" >students</th>\n",
       "                        <td id=\"T_7a5870fc_1d07_11ea_af05_40b0340ebc6crow57_col0\" class=\"data row57 col0\" >0.00101186</td>\n",
       "            </tr>\n",
       "            <tr>\n",
       "                        <th id=\"T_7a5870fc_1d07_11ea_af05_40b0340ebc6clevel0_row58\" class=\"row_heading level0 row58\" >tenuretrack</th>\n",
       "                        <td id=\"T_7a5870fc_1d07_11ea_af05_40b0340ebc6crow58_col0\" class=\"data row58 col0\" >-0.0138534</td>\n",
       "            </tr>\n",
       "            <tr>\n",
       "                        <th id=\"T_7a5870fc_1d07_11ea_af05_40b0340ebc6clevel0_row59\" class=\"row_heading level0 row59\" >blkandwhite</th>\n",
       "                        <td id=\"T_7a5870fc_1d07_11ea_af05_40b0340ebc6crow59_col0\" class=\"data row59 col0\" >0.0238446</td>\n",
       "            </tr>\n",
       "            <tr>\n",
       "                        <th id=\"T_7a5870fc_1d07_11ea_af05_40b0340ebc6clevel0_row60\" class=\"row_heading level0 row60\" >btystdvariance</th>\n",
       "                        <td id=\"T_7a5870fc_1d07_11ea_af05_40b0340ebc6crow60_col0\" class=\"data row60 col0\" >0.00458469</td>\n",
       "            </tr>\n",
       "            <tr>\n",
       "                        <th id=\"T_7a5870fc_1d07_11ea_af05_40b0340ebc6clevel0_row61\" class=\"row_heading level0 row61\" >btystdavepos</th>\n",
       "                        <td id=\"T_7a5870fc_1d07_11ea_af05_40b0340ebc6crow61_col0\" class=\"data row61 col0\" >-10705.9</td>\n",
       "            </tr>\n",
       "            <tr>\n",
       "                        <th id=\"T_7a5870fc_1d07_11ea_af05_40b0340ebc6clevel0_row62\" class=\"row_heading level0 row62\" >btystdaveneg</th>\n",
       "                        <td id=\"T_7a5870fc_1d07_11ea_af05_40b0340ebc6crow62_col0\" class=\"data row62 col0\" >-10705.9</td>\n",
       "            </tr>\n",
       "    </tbody></table>"
      ],
      "text/plain": [
       "<pandas.io.formats.style.Styler at 0x7feeb33374a8>"
      ]
     },
     "execution_count": 22,
     "metadata": {},
     "output_type": "execute_result"
    }
   ],
   "source": [
    "weigths = pd.DataFrame(index=X.columns, data=linmodel2.coef_)\n",
    "\n",
    "#s = df.style.background_gradient(cmap=cm, low=0, high=1, axis=0)\n",
    "weigths.style.background_gradient(cmap='ocean')"
   ]
  },
  {
   "cell_type": "markdown",
   "metadata": {},
   "source": [
    "## Wyjaśnienie nadmiernych wag\n",
    "\n",
    "Współczynniki kilku zmiennych po dopasowaniu przyjęły bardzo duże wartości. Może to mówić o nadmiernym dopasowaniu modelu w tych wymiarach. Możliwe, że ich wartość zmniejszyła by się przy użyciu regresji z regularyzacją - ridge lub lasso.\n",
    "\n",
    "Same wagi nie są zbyt informatywne - duże znaczenie ma zakres samej zmiennej. \n",
    "Jako że model jest liniowy, sprawdzenie korelacji predyktorów z zwynikiem może dać informację o ważności. "
   ]
  },
  {
   "cell_type": "code",
   "execution_count": 27,
   "metadata": {},
   "outputs": [
    {
     "data": {
      "text/html": [
       "<style  type=\"text/css\" >\n",
       "    #T_4cdea634_1d28_11ea_93ad_d0817aacc602row0_col0 {\n",
       "            background-color:  #ffffff;\n",
       "            color:  #000000;\n",
       "        }    #T_4cdea634_1d28_11ea_93ad_d0817aacc602row1_col0 {\n",
       "            background-color:  #d5eaf1;\n",
       "            color:  #000000;\n",
       "        }    #T_4cdea634_1d28_11ea_93ad_d0817aacc602row2_col0 {\n",
       "            background-color:  #000458;\n",
       "            color:  #f1f1f1;\n",
       "        }    #T_4cdea634_1d28_11ea_93ad_d0817aacc602row3_col0 {\n",
       "            background-color:  #000156;\n",
       "            color:  #f1f1f1;\n",
       "        }    #T_4cdea634_1d28_11ea_93ad_d0817aacc602row4_col0 {\n",
       "            background-color:  #000651;\n",
       "            color:  #f1f1f1;\n",
       "        }    #T_4cdea634_1d28_11ea_93ad_d0817aacc602row5_col0 {\n",
       "            background-color:  #000651;\n",
       "            color:  #f1f1f1;\n",
       "        }    #T_4cdea634_1d28_11ea_93ad_d0817aacc602row6_col0 {\n",
       "            background-color:  #000651;\n",
       "            color:  #f1f1f1;\n",
       "        }    #T_4cdea634_1d28_11ea_93ad_d0817aacc602row7_col0 {\n",
       "            background-color:  #000850;\n",
       "            color:  #f1f1f1;\n",
       "        }    #T_4cdea634_1d28_11ea_93ad_d0817aacc602row8_col0 {\n",
       "            background-color:  #000850;\n",
       "            color:  #f1f1f1;\n",
       "        }    #T_4cdea634_1d28_11ea_93ad_d0817aacc602row9_col0 {\n",
       "            background-color:  #000a4e;\n",
       "            color:  #f1f1f1;\n",
       "        }    #T_4cdea634_1d28_11ea_93ad_d0817aacc602row10_col0 {\n",
       "            background-color:  #000f4b;\n",
       "            color:  #f1f1f1;\n",
       "        }    #T_4cdea634_1d28_11ea_93ad_d0817aacc602row11_col0 {\n",
       "            background-color:  #00114a;\n",
       "            color:  #f1f1f1;\n",
       "        }    #T_4cdea634_1d28_11ea_93ad_d0817aacc602row12_col0 {\n",
       "            background-color:  #001249;\n",
       "            color:  #f1f1f1;\n",
       "        }    #T_4cdea634_1d28_11ea_93ad_d0817aacc602row13_col0 {\n",
       "            background-color:  #001249;\n",
       "            color:  #f1f1f1;\n",
       "        }    #T_4cdea634_1d28_11ea_93ad_d0817aacc602row14_col0 {\n",
       "            background-color:  #001448;\n",
       "            color:  #f1f1f1;\n",
       "        }    #T_4cdea634_1d28_11ea_93ad_d0817aacc602row15_col0 {\n",
       "            background-color:  #001547;\n",
       "            color:  #f1f1f1;\n",
       "        }    #T_4cdea634_1d28_11ea_93ad_d0817aacc602row16_col0 {\n",
       "            background-color:  #001547;\n",
       "            color:  #f1f1f1;\n",
       "        }    #T_4cdea634_1d28_11ea_93ad_d0817aacc602row17_col0 {\n",
       "            background-color:  #001b43;\n",
       "            color:  #f1f1f1;\n",
       "        }    #T_4cdea634_1d28_11ea_93ad_d0817aacc602row18_col0 {\n",
       "            background-color:  #001b43;\n",
       "            color:  #f1f1f1;\n",
       "        }    #T_4cdea634_1d28_11ea_93ad_d0817aacc602row19_col0 {\n",
       "            background-color:  #00213f;\n",
       "            color:  #f1f1f1;\n",
       "        }    #T_4cdea634_1d28_11ea_93ad_d0817aacc602row20_col0 {\n",
       "            background-color:  #00233e;\n",
       "            color:  #f1f1f1;\n",
       "        }    #T_4cdea634_1d28_11ea_93ad_d0817aacc602row21_col0 {\n",
       "            background-color:  #00243d;\n",
       "            color:  #f1f1f1;\n",
       "        }    #T_4cdea634_1d28_11ea_93ad_d0817aacc602row22_col0 {\n",
       "            background-color:  #00273b;\n",
       "            color:  #f1f1f1;\n",
       "        }    #T_4cdea634_1d28_11ea_93ad_d0817aacc602row23_col0 {\n",
       "            background-color:  #002f36;\n",
       "            color:  #f1f1f1;\n",
       "        }    #T_4cdea634_1d28_11ea_93ad_d0817aacc602row24_col0 {\n",
       "            background-color:  #002f36;\n",
       "            color:  #f1f1f1;\n",
       "        }    #T_4cdea634_1d28_11ea_93ad_d0817aacc602row25_col0 {\n",
       "            background-color:  #002f36;\n",
       "            color:  #f1f1f1;\n",
       "        }    #T_4cdea634_1d28_11ea_93ad_d0817aacc602row26_col0 {\n",
       "            background-color:  #003134;\n",
       "            color:  #f1f1f1;\n",
       "        }    #T_4cdea634_1d28_11ea_93ad_d0817aacc602row27_col0 {\n",
       "            background-color:  #003432;\n",
       "            color:  #f1f1f1;\n",
       "        }    #T_4cdea634_1d28_11ea_93ad_d0817aacc602row28_col0 {\n",
       "            background-color:  #003432;\n",
       "            color:  #f1f1f1;\n",
       "        }    #T_4cdea634_1d28_11ea_93ad_d0817aacc602row29_col0 {\n",
       "            background-color:  #003830;\n",
       "            color:  #f1f1f1;\n",
       "        }    #T_4cdea634_1d28_11ea_93ad_d0817aacc602row30_col0 {\n",
       "            background-color:  #00392f;\n",
       "            color:  #f1f1f1;\n",
       "        }    #T_4cdea634_1d28_11ea_93ad_d0817aacc602row31_col0 {\n",
       "            background-color:  #003b2e;\n",
       "            color:  #f1f1f1;\n",
       "        }    #T_4cdea634_1d28_11ea_93ad_d0817aacc602row32_col0 {\n",
       "            background-color:  #003c2d;\n",
       "            color:  #f1f1f1;\n",
       "        }    #T_4cdea634_1d28_11ea_93ad_d0817aacc602row33_col0 {\n",
       "            background-color:  #003c2d;\n",
       "            color:  #f1f1f1;\n",
       "        }    #T_4cdea634_1d28_11ea_93ad_d0817aacc602row34_col0 {\n",
       "            background-color:  #004229;\n",
       "            color:  #f1f1f1;\n",
       "        }    #T_4cdea634_1d28_11ea_93ad_d0817aacc602row35_col0 {\n",
       "            background-color:  #004428;\n",
       "            color:  #f1f1f1;\n",
       "        }    #T_4cdea634_1d28_11ea_93ad_d0817aacc602row36_col0 {\n",
       "            background-color:  #004527;\n",
       "            color:  #f1f1f1;\n",
       "        }    #T_4cdea634_1d28_11ea_93ad_d0817aacc602row37_col0 {\n",
       "            background-color:  #004825;\n",
       "            color:  #f1f1f1;\n",
       "        }    #T_4cdea634_1d28_11ea_93ad_d0817aacc602row38_col0 {\n",
       "            background-color:  #004825;\n",
       "            color:  #f1f1f1;\n",
       "        }    #T_4cdea634_1d28_11ea_93ad_d0817aacc602row39_col0 {\n",
       "            background-color:  #004825;\n",
       "            color:  #f1f1f1;\n",
       "        }    #T_4cdea634_1d28_11ea_93ad_d0817aacc602row40_col0 {\n",
       "            background-color:  #004825;\n",
       "            color:  #f1f1f1;\n",
       "        }    #T_4cdea634_1d28_11ea_93ad_d0817aacc602row41_col0 {\n",
       "            background-color:  #004825;\n",
       "            color:  #f1f1f1;\n",
       "        }    #T_4cdea634_1d28_11ea_93ad_d0817aacc602row42_col0 {\n",
       "            background-color:  #004e21;\n",
       "            color:  #f1f1f1;\n",
       "        }    #T_4cdea634_1d28_11ea_93ad_d0817aacc602row43_col0 {\n",
       "            background-color:  #005020;\n",
       "            color:  #f1f1f1;\n",
       "        }    #T_4cdea634_1d28_11ea_93ad_d0817aacc602row44_col0 {\n",
       "            background-color:  #005020;\n",
       "            color:  #f1f1f1;\n",
       "        }    #T_4cdea634_1d28_11ea_93ad_d0817aacc602row45_col0 {\n",
       "            background-color:  #00511f;\n",
       "            color:  #f1f1f1;\n",
       "        }    #T_4cdea634_1d28_11ea_93ad_d0817aacc602row46_col0 {\n",
       "            background-color:  #00521e;\n",
       "            color:  #f1f1f1;\n",
       "        }    #T_4cdea634_1d28_11ea_93ad_d0817aacc602row47_col0 {\n",
       "            background-color:  #00521e;\n",
       "            color:  #f1f1f1;\n",
       "        }    #T_4cdea634_1d28_11ea_93ad_d0817aacc602row48_col0 {\n",
       "            background-color:  #00561c;\n",
       "            color:  #f1f1f1;\n",
       "        }    #T_4cdea634_1d28_11ea_93ad_d0817aacc602row49_col0 {\n",
       "            background-color:  #00581a;\n",
       "            color:  #f1f1f1;\n",
       "        }    #T_4cdea634_1d28_11ea_93ad_d0817aacc602row50_col0 {\n",
       "            background-color:  #00581a;\n",
       "            color:  #f1f1f1;\n",
       "        }    #T_4cdea634_1d28_11ea_93ad_d0817aacc602row51_col0 {\n",
       "            background-color:  #005a19;\n",
       "            color:  #f1f1f1;\n",
       "        }    #T_4cdea634_1d28_11ea_93ad_d0817aacc602row52_col0 {\n",
       "            background-color:  #005d17;\n",
       "            color:  #f1f1f1;\n",
       "        }    #T_4cdea634_1d28_11ea_93ad_d0817aacc602row53_col0 {\n",
       "            background-color:  #005d17;\n",
       "            color:  #f1f1f1;\n",
       "        }    #T_4cdea634_1d28_11ea_93ad_d0817aacc602row54_col0 {\n",
       "            background-color:  #005d17;\n",
       "            color:  #f1f1f1;\n",
       "        }    #T_4cdea634_1d28_11ea_93ad_d0817aacc602row55_col0 {\n",
       "            background-color:  #005e16;\n",
       "            color:  #f1f1f1;\n",
       "        }    #T_4cdea634_1d28_11ea_93ad_d0817aacc602row56_col0 {\n",
       "            background-color:  #005e16;\n",
       "            color:  #f1f1f1;\n",
       "        }    #T_4cdea634_1d28_11ea_93ad_d0817aacc602row57_col0 {\n",
       "            background-color:  #006214;\n",
       "            color:  #f1f1f1;\n",
       "        }    #T_4cdea634_1d28_11ea_93ad_d0817aacc602row58_col0 {\n",
       "            background-color:  #006412;\n",
       "            color:  #f1f1f1;\n",
       "        }    #T_4cdea634_1d28_11ea_93ad_d0817aacc602row59_col0 {\n",
       "            background-color:  #006c0d;\n",
       "            color:  #f1f1f1;\n",
       "        }    #T_4cdea634_1d28_11ea_93ad_d0817aacc602row60_col0 {\n",
       "            background-color:  #007209;\n",
       "            color:  #f1f1f1;\n",
       "        }    #T_4cdea634_1d28_11ea_93ad_d0817aacc602row61_col0 {\n",
       "            background-color:  #007606;\n",
       "            color:  #f1f1f1;\n",
       "        }    #T_4cdea634_1d28_11ea_93ad_d0817aacc602row62_col0 {\n",
       "            background-color:  #007a04;\n",
       "            color:  #f1f1f1;\n",
       "        }    #T_4cdea634_1d28_11ea_93ad_d0817aacc602row63_col0 {\n",
       "            background-color:  #008000;\n",
       "            color:  #f1f1f1;\n",
       "        }</style><table id=\"T_4cdea634_1d28_11ea_93ad_d0817aacc602\" ><thead>    <tr>        <th class=\"blank level0\" ></th>        <th class=\"col_heading level0 col0\" >courseevaluation</th>    </tr></thead><tbody>\n",
       "                <tr>\n",
       "                        <th id=\"T_4cdea634_1d28_11ea_93ad_d0817aacc602level0_row0\" class=\"row_heading level0 row0\" >courseevaluation</th>\n",
       "                        <td id=\"T_4cdea634_1d28_11ea_93ad_d0817aacc602row0_col0\" class=\"data row0 col0\" >1</td>\n",
       "            </tr>\n",
       "            <tr>\n",
       "                        <th id=\"T_4cdea634_1d28_11ea_93ad_d0817aacc602level0_row1\" class=\"row_heading level0 row1\" >profevaluation</th>\n",
       "                        <td id=\"T_4cdea634_1d28_11ea_93ad_d0817aacc602row1_col0\" class=\"data row1 col0\" >0.935097</td>\n",
       "            </tr>\n",
       "            <tr>\n",
       "                        <th id=\"T_4cdea634_1d28_11ea_93ad_d0817aacc602level0_row2\" class=\"row_heading level0 row2\" >onecredit</th>\n",
       "                        <td id=\"T_4cdea634_1d28_11ea_93ad_d0817aacc602row2_col0\" class=\"data row2 col0\" >0.23524</td>\n",
       "            </tr>\n",
       "            <tr>\n",
       "                        <th id=\"T_4cdea634_1d28_11ea_93ad_d0817aacc602level0_row3\" class=\"row_heading level0 row3\" >percentevaluating</th>\n",
       "                        <td id=\"T_4cdea634_1d28_11ea_93ad_d0817aacc602row3_col0\" class=\"data row3 col0\" >0.223139</td>\n",
       "            </tr>\n",
       "            <tr>\n",
       "                        <th id=\"T_4cdea634_1d28_11ea_93ad_d0817aacc602level0_row4\" class=\"row_heading level0 row4\" >beautyfupperdiv</th>\n",
       "                        <td id=\"T_4cdea634_1d28_11ea_93ad_d0817aacc602row4_col0\" class=\"data row4 col0\" >0.199673</td>\n",
       "            </tr>\n",
       "            <tr>\n",
       "                        <th id=\"T_4cdea634_1d28_11ea_93ad_d0817aacc602level0_row5\" class=\"row_heading level0 row5\" >btystdmu</th>\n",
       "                        <td id=\"T_4cdea634_1d28_11ea_93ad_d0817aacc602row5_col0\" class=\"data row5 col0\" >0.199092</td>\n",
       "            </tr>\n",
       "            <tr>\n",
       "                        <th id=\"T_4cdea634_1d28_11ea_93ad_d0817aacc602level0_row6\" class=\"row_heading level0 row6\" >beautymupperdiv</th>\n",
       "                        <td id=\"T_4cdea634_1d28_11ea_93ad_d0817aacc602row6_col0\" class=\"data row6 col0\" >0.199092</td>\n",
       "            </tr>\n",
       "            <tr>\n",
       "                        <th id=\"T_4cdea634_1d28_11ea_93ad_d0817aacc602level0_row7\" class=\"row_heading level0 row7\" >btystdfu</th>\n",
       "                        <td id=\"T_4cdea634_1d28_11ea_93ad_d0817aacc602row7_col0\" class=\"data row7 col0\" >0.196622</td>\n",
       "            </tr>\n",
       "            <tr>\n",
       "                        <th id=\"T_4cdea634_1d28_11ea_93ad_d0817aacc602level0_row8\" class=\"row_heading level0 row8\" >fulldept</th>\n",
       "                        <td id=\"T_4cdea634_1d28_11ea_93ad_d0817aacc602row8_col0\" class=\"data row8 col0\" >0.196537</td>\n",
       "            </tr>\n",
       "            <tr>\n",
       "                        <th id=\"T_4cdea634_1d28_11ea_93ad_d0817aacc602level0_row9\" class=\"row_heading level0 row9\" >btystdave</th>\n",
       "                        <td id=\"T_4cdea634_1d28_11ea_93ad_d0817aacc602row9_col0\" class=\"data row9 col0\" >0.189039</td>\n",
       "            </tr>\n",
       "            <tr>\n",
       "                        <th id=\"T_4cdea634_1d28_11ea_93ad_d0817aacc602level0_row10\" class=\"row_heading level0 row10\" >blkandwhite</th>\n",
       "                        <td id=\"T_4cdea634_1d28_11ea_93ad_d0817aacc602row10_col0\" class=\"data row10 col0\" >0.173189</td>\n",
       "            </tr>\n",
       "            <tr>\n",
       "                        <th id=\"T_4cdea634_1d28_11ea_93ad_d0817aacc602level0_row11\" class=\"row_heading level0 row11\" >btystdaveneg</th>\n",
       "                        <td id=\"T_4cdea634_1d28_11ea_93ad_d0817aacc602row11_col0\" class=\"data row11 col0\" >0.167709</td>\n",
       "            </tr>\n",
       "            <tr>\n",
       "                        <th id=\"T_4cdea634_1d28_11ea_93ad_d0817aacc602level0_row12\" class=\"row_heading level0 row12\" >btystdf2u</th>\n",
       "                        <td id=\"T_4cdea634_1d28_11ea_93ad_d0817aacc602row12_col0\" class=\"data row12 col0\" >0.164431</td>\n",
       "            </tr>\n",
       "            <tr>\n",
       "                        <th id=\"T_4cdea634_1d28_11ea_93ad_d0817aacc602level0_row13\" class=\"row_heading level0 row13\" >beautyf2upper</th>\n",
       "                        <td id=\"T_4cdea634_1d28_11ea_93ad_d0817aacc602row13_col0\" class=\"data row13 col0\" >0.164431</td>\n",
       "            </tr>\n",
       "            <tr>\n",
       "                        <th id=\"T_4cdea634_1d28_11ea_93ad_d0817aacc602level0_row14\" class=\"row_heading level0 row14\" >btystdavepos</th>\n",
       "                        <td id=\"T_4cdea634_1d28_11ea_93ad_d0817aacc602row14_col0\" class=\"data row14 col0\" >0.161702</td>\n",
       "            </tr>\n",
       "            <tr>\n",
       "                        <th id=\"T_4cdea634_1d28_11ea_93ad_d0817aacc602level0_row15\" class=\"row_heading level0 row15\" >btystdm2u</th>\n",
       "                        <td id=\"T_4cdea634_1d28_11ea_93ad_d0817aacc602row15_col0\" class=\"data row15 col0\" >0.157253</td>\n",
       "            </tr>\n",
       "            <tr>\n",
       "                        <th id=\"T_4cdea634_1d28_11ea_93ad_d0817aacc602level0_row16\" class=\"row_heading level0 row16\" >beautym2upper</th>\n",
       "                        <td id=\"T_4cdea634_1d28_11ea_93ad_d0817aacc602row16_col0\" class=\"data row16 col0\" >0.157253</td>\n",
       "            </tr>\n",
       "            <tr>\n",
       "                        <th id=\"T_4cdea634_1d28_11ea_93ad_d0817aacc602level0_row17\" class=\"row_heading level0 row17\" >beautyflowerdiv</th>\n",
       "                        <td id=\"T_4cdea634_1d28_11ea_93ad_d0817aacc602row17_col0\" class=\"data row17 col0\" >0.136498</td>\n",
       "            </tr>\n",
       "            <tr>\n",
       "                        <th id=\"T_4cdea634_1d28_11ea_93ad_d0817aacc602level0_row18\" class=\"row_heading level0 row18\" >btystdfl</th>\n",
       "                        <td id=\"T_4cdea634_1d28_11ea_93ad_d0817aacc602row18_col0\" class=\"data row18 col0\" >0.136498</td>\n",
       "            </tr>\n",
       "            <tr>\n",
       "                        <th id=\"T_4cdea634_1d28_11ea_93ad_d0817aacc602level0_row19\" class=\"row_heading level0 row19\" >class30</th>\n",
       "                        <td id=\"T_4cdea634_1d28_11ea_93ad_d0817aacc602row19_col0\" class=\"data row19 col0\" >0.117039</td>\n",
       "            </tr>\n",
       "            <tr>\n",
       "                        <th id=\"T_4cdea634_1d28_11ea_93ad_d0817aacc602level0_row20\" class=\"row_heading level0 row20\" >lower</th>\n",
       "                        <td id=\"T_4cdea634_1d28_11ea_93ad_d0817aacc602row20_col0\" class=\"data row20 col0\" >0.115002</td>\n",
       "            </tr>\n",
       "            <tr>\n",
       "                        <th id=\"T_4cdea634_1d28_11ea_93ad_d0817aacc602level0_row21\" class=\"row_heading level0 row21\" >class28</th>\n",
       "                        <td id=\"T_4cdea634_1d28_11ea_93ad_d0817aacc602row21_col0\" class=\"data row21 col0\" >0.109767</td>\n",
       "            </tr>\n",
       "            <tr>\n",
       "                        <th id=\"T_4cdea634_1d28_11ea_93ad_d0817aacc602level0_row22\" class=\"row_heading level0 row22\" >class1</th>\n",
       "                        <td id=\"T_4cdea634_1d28_11ea_93ad_d0817aacc602row22_col0\" class=\"data row22 col0\" >0.0983508</td>\n",
       "            </tr>\n",
       "            <tr>\n",
       "                        <th id=\"T_4cdea634_1d28_11ea_93ad_d0817aacc602level0_row23\" class=\"row_heading level0 row23\" >class20</th>\n",
       "                        <td id=\"T_4cdea634_1d28_11ea_93ad_d0817aacc602row23_col0\" class=\"data row23 col0\" >0.0794998</td>\n",
       "            </tr>\n",
       "            <tr>\n",
       "                        <th id=\"T_4cdea634_1d28_11ea_93ad_d0817aacc602level0_row24\" class=\"row_heading level0 row24\" >beautymlowerdiv</th>\n",
       "                        <td id=\"T_4cdea634_1d28_11ea_93ad_d0817aacc602row24_col0\" class=\"data row24 col0\" >0.0753692</td>\n",
       "            </tr>\n",
       "            <tr>\n",
       "                        <th id=\"T_4cdea634_1d28_11ea_93ad_d0817aacc602level0_row25\" class=\"row_heading level0 row25\" >btystdml</th>\n",
       "                        <td id=\"T_4cdea634_1d28_11ea_93ad_d0817aacc602row25_col0\" class=\"data row25 col0\" >0.0753692</td>\n",
       "            </tr>\n",
       "            <tr>\n",
       "                        <th id=\"T_4cdea634_1d28_11ea_93ad_d0817aacc602level0_row26\" class=\"row_heading level0 row26\" >class17</th>\n",
       "                        <td id=\"T_4cdea634_1d28_11ea_93ad_d0817aacc602row26_col0\" class=\"data row26 col0\" >0.0674472</td>\n",
       "            </tr>\n",
       "            <tr>\n",
       "                        <th id=\"T_4cdea634_1d28_11ea_93ad_d0817aacc602level0_row27\" class=\"row_heading level0 row27\" >class23</th>\n",
       "                        <td id=\"T_4cdea634_1d28_11ea_93ad_d0817aacc602row27_col0\" class=\"data row27 col0\" >0.0606489</td>\n",
       "            </tr>\n",
       "            <tr>\n",
       "                        <th id=\"T_4cdea634_1d28_11ea_93ad_d0817aacc602level0_row28\" class=\"row_heading level0 row28\" >class10</th>\n",
       "                        <td id=\"T_4cdea634_1d28_11ea_93ad_d0817aacc602row28_col0\" class=\"data row28 col0\" >0.0606489</td>\n",
       "            </tr>\n",
       "            <tr>\n",
       "                        <th id=\"T_4cdea634_1d28_11ea_93ad_d0817aacc602level0_row29\" class=\"row_heading level0 row29\" >class2</th>\n",
       "                        <td id=\"T_4cdea634_1d28_11ea_93ad_d0817aacc602row29_col0\" class=\"data row29 col0\" >0.0477395</td>\n",
       "            </tr>\n",
       "            <tr>\n",
       "                        <th id=\"T_4cdea634_1d28_11ea_93ad_d0817aacc602level0_row30\" class=\"row_heading level0 row30\" >class26</th>\n",
       "                        <td id=\"T_4cdea634_1d28_11ea_93ad_d0817aacc602row30_col0\" class=\"data row30 col0\" >0.0439621</td>\n",
       "            </tr>\n",
       "            <tr>\n",
       "                        <th id=\"T_4cdea634_1d28_11ea_93ad_d0817aacc602level0_row31\" class=\"row_heading level0 row31\" >class18</th>\n",
       "                        <td id=\"T_4cdea634_1d28_11ea_93ad_d0817aacc602row31_col0\" class=\"data row31 col0\" >0.0423972</td>\n",
       "            </tr>\n",
       "            <tr>\n",
       "                        <th id=\"T_4cdea634_1d28_11ea_93ad_d0817aacc602level0_row32\" class=\"row_heading level0 row32\" >formal</th>\n",
       "                        <td id=\"T_4cdea634_1d28_11ea_93ad_d0817aacc602row32_col0\" class=\"data row32 col0\" >0.0369736</td>\n",
       "            </tr>\n",
       "            <tr>\n",
       "                        <th id=\"T_4cdea634_1d28_11ea_93ad_d0817aacc602level0_row33\" class=\"row_heading level0 row33\" >didevaluation</th>\n",
       "                        <td id=\"T_4cdea634_1d28_11ea_93ad_d0817aacc602row33_col0\" class=\"data row33 col0\" >0.0354667</td>\n",
       "            </tr>\n",
       "            <tr>\n",
       "                        <th id=\"T_4cdea634_1d28_11ea_93ad_d0817aacc602level0_row34\" class=\"row_heading level0 row34\" >profnumber</th>\n",
       "                        <td id=\"T_4cdea634_1d28_11ea_93ad_d0817aacc602row34_col0\" class=\"data row34 col0\" >0.0198597</td>\n",
       "            </tr>\n",
       "            <tr>\n",
       "                        <th id=\"T_4cdea634_1d28_11ea_93ad_d0817aacc602level0_row35\" class=\"row_heading level0 row35\" >class27</th>\n",
       "                        <td id=\"T_4cdea634_1d28_11ea_93ad_d0817aacc602row35_col0\" class=\"data row35 col0\" >0.0120889</td>\n",
       "            </tr>\n",
       "            <tr>\n",
       "                        <th id=\"T_4cdea634_1d28_11ea_93ad_d0817aacc602level0_row36\" class=\"row_heading level0 row36\" >class16</th>\n",
       "                        <td id=\"T_4cdea634_1d28_11ea_93ad_d0817aacc602row36_col0\" class=\"data row36 col0\" >0.00871224</td>\n",
       "            </tr>\n",
       "            <tr>\n",
       "                        <th id=\"T_4cdea634_1d28_11ea_93ad_d0817aacc602level0_row37\" class=\"row_heading level0 row37\" >class5</th>\n",
       "                        <td id=\"T_4cdea634_1d28_11ea_93ad_d0817aacc602row37_col0\" class=\"data row37 col0\" >0.000291014</td>\n",
       "            </tr>\n",
       "            <tr>\n",
       "                        <th id=\"T_4cdea634_1d28_11ea_93ad_d0817aacc602level0_row38\" class=\"row_heading level0 row38\" >class12</th>\n",
       "                        <td id=\"T_4cdea634_1d28_11ea_93ad_d0817aacc602row38_col0\" class=\"data row38 col0\" >0.000251752</td>\n",
       "            </tr>\n",
       "            <tr>\n",
       "                        <th id=\"T_4cdea634_1d28_11ea_93ad_d0817aacc602level0_row39\" class=\"row_heading level0 row39\" >class29</th>\n",
       "                        <td id=\"T_4cdea634_1d28_11ea_93ad_d0817aacc602row39_col0\" class=\"data row39 col0\" >0.000205331</td>\n",
       "            </tr>\n",
       "            <tr>\n",
       "                        <th id=\"T_4cdea634_1d28_11ea_93ad_d0817aacc602level0_row40\" class=\"row_heading level0 row40\" >class11</th>\n",
       "                        <td id=\"T_4cdea634_1d28_11ea_93ad_d0817aacc602row40_col0\" class=\"data row40 col0\" >0.000205331</td>\n",
       "            </tr>\n",
       "            <tr>\n",
       "                        <th id=\"T_4cdea634_1d28_11ea_93ad_d0817aacc602level0_row41\" class=\"row_heading level0 row41\" >students</th>\n",
       "                        <td id=\"T_4cdea634_1d28_11ea_93ad_d0817aacc602row41_col0\" class=\"data row41 col0\" >-0.00122934</td>\n",
       "            </tr>\n",
       "            <tr>\n",
       "                        <th id=\"T_4cdea634_1d28_11ea_93ad_d0817aacc602level0_row42\" class=\"row_heading level0 row42\" >class13</th>\n",
       "                        <td id=\"T_4cdea634_1d28_11ea_93ad_d0817aacc602row42_col0\" class=\"data row42 col0\" >-0.0191751</td>\n",
       "            </tr>\n",
       "            <tr>\n",
       "                        <th id=\"T_4cdea634_1d28_11ea_93ad_d0817aacc602level0_row43\" class=\"row_heading level0 row43\" >class8</th>\n",
       "                        <td id=\"T_4cdea634_1d28_11ea_93ad_d0817aacc602row43_col0\" class=\"data row43 col0\" >-0.0235618</td>\n",
       "            </tr>\n",
       "            <tr>\n",
       "                        <th id=\"T_4cdea634_1d28_11ea_93ad_d0817aacc602level0_row44\" class=\"row_heading level0 row44\" >class25</th>\n",
       "                        <td id=\"T_4cdea634_1d28_11ea_93ad_d0817aacc602row44_col0\" class=\"data row44 col0\" >-0.0240318</td>\n",
       "            </tr>\n",
       "            <tr>\n",
       "                        <th id=\"T_4cdea634_1d28_11ea_93ad_d0817aacc602level0_row45\" class=\"row_heading level0 row45\" >class3</th>\n",
       "                        <td id=\"T_4cdea634_1d28_11ea_93ad_d0817aacc602row45_col0\" class=\"data row45 col0\" >-0.0294908</td>\n",
       "            </tr>\n",
       "            <tr>\n",
       "                        <th id=\"T_4cdea634_1d28_11ea_93ad_d0817aacc602level0_row46\" class=\"row_heading level0 row46\" >class24</th>\n",
       "                        <td id=\"T_4cdea634_1d28_11ea_93ad_d0817aacc602row46_col0\" class=\"data row46 col0\" >-0.0337452</td>\n",
       "            </tr>\n",
       "            <tr>\n",
       "                        <th id=\"T_4cdea634_1d28_11ea_93ad_d0817aacc602level0_row47\" class=\"row_heading level0 row47\" >class6</th>\n",
       "                        <td id=\"T_4cdea634_1d28_11ea_93ad_d0817aacc602row47_col0\" class=\"data row47 col0\" >-0.0340975</td>\n",
       "            </tr>\n",
       "            <tr>\n",
       "                        <th id=\"T_4cdea634_1d28_11ea_93ad_d0817aacc602level0_row48\" class=\"row_heading level0 row48\" >multipleclass</th>\n",
       "                        <td id=\"T_4cdea634_1d28_11ea_93ad_d0817aacc602row48_col0\" class=\"data row48 col0\" >-0.0413932</td>\n",
       "            </tr>\n",
       "            <tr>\n",
       "                        <th id=\"T_4cdea634_1d28_11ea_93ad_d0817aacc602level0_row49\" class=\"row_heading level0 row49\" >class22</th>\n",
       "                        <td id=\"T_4cdea634_1d28_11ea_93ad_d0817aacc602row49_col0\" class=\"data row49 col0\" >-0.0506873</td>\n",
       "            </tr>\n",
       "            <tr>\n",
       "                        <th id=\"T_4cdea634_1d28_11ea_93ad_d0817aacc602level0_row50\" class=\"row_heading level0 row50\" >age</th>\n",
       "                        <td id=\"T_4cdea634_1d28_11ea_93ad_d0817aacc602row50_col0\" class=\"data row50 col0\" >-0.0516962</td>\n",
       "            </tr>\n",
       "            <tr>\n",
       "                        <th id=\"T_4cdea634_1d28_11ea_93ad_d0817aacc602level0_row51\" class=\"row_heading level0 row51\" >tenured</th>\n",
       "                        <td id=\"T_4cdea634_1d28_11ea_93ad_d0817aacc602row51_col0\" class=\"data row51 col0\" >-0.0576312</td>\n",
       "            </tr>\n",
       "            <tr>\n",
       "                        <th id=\"T_4cdea634_1d28_11ea_93ad_d0817aacc602level0_row52\" class=\"row_heading level0 row52\" >class14</th>\n",
       "                        <td id=\"T_4cdea634_1d28_11ea_93ad_d0817aacc602row52_col0\" class=\"data row52 col0\" >-0.0628855</td>\n",
       "            </tr>\n",
       "            <tr>\n",
       "                        <th id=\"T_4cdea634_1d28_11ea_93ad_d0817aacc602level0_row53\" class=\"row_heading level0 row53\" >btystdvariance</th>\n",
       "                        <td id=\"T_4cdea634_1d28_11ea_93ad_d0817aacc602row53_col0\" class=\"data row53 col0\" >-0.0630618</td>\n",
       "            </tr>\n",
       "            <tr>\n",
       "                        <th id=\"T_4cdea634_1d28_11ea_93ad_d0817aacc602level0_row54\" class=\"row_heading level0 row54\" >class4</th>\n",
       "                        <td id=\"T_4cdea634_1d28_11ea_93ad_d0817aacc602row54_col0\" class=\"data row54 col0\" >-0.0641779</td>\n",
       "            </tr>\n",
       "            <tr>\n",
       "                        <th id=\"T_4cdea634_1d28_11ea_93ad_d0817aacc602level0_row55\" class=\"row_heading level0 row55\" >class7</th>\n",
       "                        <td id=\"T_4cdea634_1d28_11ea_93ad_d0817aacc602row55_col0\" class=\"data row55 col0\" >-0.0670788</td>\n",
       "            </tr>\n",
       "            <tr>\n",
       "                        <th id=\"T_4cdea634_1d28_11ea_93ad_d0817aacc602level0_row56\" class=\"row_heading level0 row56\" >class19</th>\n",
       "                        <td id=\"T_4cdea634_1d28_11ea_93ad_d0817aacc602row56_col0\" class=\"data row56 col0\" >-0.0685521</td>\n",
       "            </tr>\n",
       "            <tr>\n",
       "                        <th id=\"T_4cdea634_1d28_11ea_93ad_d0817aacc602level0_row57\" class=\"row_heading level0 row57\" >minority</th>\n",
       "                        <td id=\"T_4cdea634_1d28_11ea_93ad_d0817aacc602row57_col0\" class=\"data row57 col0\" >-0.0766545</td>\n",
       "            </tr>\n",
       "            <tr>\n",
       "                        <th id=\"T_4cdea634_1d28_11ea_93ad_d0817aacc602level0_row58\" class=\"row_heading level0 row58\" >class9</th>\n",
       "                        <td id=\"T_4cdea634_1d28_11ea_93ad_d0817aacc602row58_col0\" class=\"data row58 col0\" >-0.089299</td>\n",
       "            </tr>\n",
       "            <tr>\n",
       "                        <th id=\"T_4cdea634_1d28_11ea_93ad_d0817aacc602level0_row59\" class=\"row_heading level0 row59\" >class21</th>\n",
       "                        <td id=\"T_4cdea634_1d28_11ea_93ad_d0817aacc602row59_col0\" class=\"data row59 col0\" >-0.108678</td>\n",
       "            </tr>\n",
       "            <tr>\n",
       "                        <th id=\"T_4cdea634_1d28_11ea_93ad_d0817aacc602level0_row60\" class=\"row_heading level0 row60\" >tenuretrack</th>\n",
       "                        <td id=\"T_4cdea634_1d28_11ea_93ad_d0817aacc602row60_col0\" class=\"data row60 col0\" >-0.129527</td>\n",
       "            </tr>\n",
       "            <tr>\n",
       "                        <th id=\"T_4cdea634_1d28_11ea_93ad_d0817aacc602level0_row61\" class=\"row_heading level0 row61\" >nonenglish</th>\n",
       "                        <td id=\"T_4cdea634_1d28_11ea_93ad_d0817aacc602row61_col0\" class=\"data row61 col0\" >-0.141435</td>\n",
       "            </tr>\n",
       "            <tr>\n",
       "                        <th id=\"T_4cdea634_1d28_11ea_93ad_d0817aacc602level0_row62\" class=\"row_heading level0 row62\" >female</th>\n",
       "                        <td id=\"T_4cdea634_1d28_11ea_93ad_d0817aacc602row62_col0\" class=\"data row62 col0\" >-0.14966</td>\n",
       "            </tr>\n",
       "            <tr>\n",
       "                        <th id=\"T_4cdea634_1d28_11ea_93ad_d0817aacc602level0_row63\" class=\"row_heading level0 row63\" >class15</th>\n",
       "                        <td id=\"T_4cdea634_1d28_11ea_93ad_d0817aacc602row63_col0\" class=\"data row63 col0\" >-0.172106</td>\n",
       "            </tr>\n",
       "    </tbody></table>"
      ],
      "text/plain": [
       "<pandas.io.formats.style.Styler at 0x1c28cbd050>"
      ]
     },
     "execution_count": 27,
     "metadata": {},
     "output_type": "execute_result"
    },
    {
     "data": {
      "text/plain": [
       "<Figure size 864x864 with 0 Axes>"
      ]
     },
     "metadata": {},
     "output_type": "display_data"
    }
   ],
   "source": [
    "plt.figure(figsize=(12,12))\n",
    "corr = df2.corr()\n",
    "corr = corr['courseevaluation']\n",
    "#corr.sort_values()\n",
    "\n",
    "corrs = pd.DataFrame(data=corr, index=df2.columns)\n",
    "#s = df.style.background_gradient(cmap=cm, low=0, high=1, axis=0)\n",
    "corrs.sort_values(by='courseevaluation', inplace=True, ascending=False)\n",
    "corrs.style.background_gradient(cmap='ocean')"
   ]
  },
  {
   "cell_type": "markdown",
   "metadata": {},
   "source": [
    "Można zauważyć, że wynik jest bardzo wysoko skorelowany z profevaluation - możliwe, że mamy do czynienia z wyciekiem danych. Stąd też wysoki wynik modelu. W kolejnych modelach to pole nie będzie użyte. Teraz sprawdzimy "
   ]
  },
  {
   "cell_type": "code",
   "execution_count": 28,
   "metadata": {},
   "outputs": [],
   "source": [
    "best_predictors = corrs.index\n",
    "best_predictors = best_predictors[2:] #Pozbycie się courseevaluation i profevaluation"
   ]
  },
  {
   "cell_type": "markdown",
   "metadata": {},
   "source": [
    "### Modele bez profevaluation"
   ]
  },
  {
   "cell_type": "code",
   "execution_count": 58,
   "metadata": {},
   "outputs": [
    {
     "name": "stdout",
     "output_type": "stream",
     "text": [
      "R2: 0.19281835241331002\n",
      "MSE: 0.22042669518471877\n"
     ]
    }
   ],
   "source": [
    "X_train3, X_test3, y_train3, y_test3 = train_test_split(X[best_predictors], y)\n",
    "linmodel3= LinearRegression()\n",
    "linmodel3.fit(X_train3, y_train3)\n",
    "\n",
    "preds3 = linmodel3.predict(X_test3)\n",
    "print('R2: ' + str(r2_score(y_test3, preds3)))\n",
    "print('MSE: ' + str(mean_squared_error(y_test3, preds3)))"
   ]
  },
  {
   "cell_type": "markdown",
   "metadata": {},
   "source": [
    "Wynik nie jest najlepszy. Przeprowadźmy jednak analizę czy wartości wyznaczone z korelacji są poprawne. Będziemy brać co raz więcej predyktorów, i trenowali nowe modele. Jeśli wyznaczone korelacje wskazują które zmienne są najważniejsze, przy dodaniu zmiennych z największą wartością zaobserwujemy największy wzrost R2."
   ]
  },
  {
   "cell_type": "markdown",
   "metadata": {},
   "source": [
    "# Wybieranie najważniejszych perdyktorów"
   ]
  },
  {
   "cell_type": "code",
   "execution_count": 61,
   "metadata": {},
   "outputs": [
    {
     "data": {
      "text/plain": [
       "Index(['nonenglish', 'female', 'class15'], dtype='object')"
      ]
     },
     "execution_count": 61,
     "metadata": {},
     "output_type": "execute_result"
    }
   ],
   "source": [
    "best_predictors[-3:]"
   ]
  },
  {
   "cell_type": "code",
   "execution_count": 89,
   "metadata": {},
   "outputs": [
    {
     "data": {
      "text/plain": [
       "[<matplotlib.lines.Line2D at 0x7feeb1b9d4e0>]"
      ]
     },
     "execution_count": 89,
     "metadata": {},
     "output_type": "execute_result"
    },
    {
     "data": {
      "image/png": "[encoded data removed]",
      "text/plain": [
       "<Figure size 432x288 with 1 Axes>"
      ]
     },
     "metadata": {
      "needs_background": "light"
     },
     "output_type": "display_data"
    }
   ],
   "source": [
    "R2_scores = []\n",
    "X_train4, X_test4, y_train4, y_test4 = train_test_split(X, y)\n",
    "\n",
    "for i in range(1, len(best_predictors)+1):\n",
    "    \n",
    "    linmodel4= LinearRegression()\n",
    "    linmodel4.fit(X_train4[best_predictors[-i:]], y_train4)\n",
    "\n",
    "    preds4 = linmodel4.predict(X_test4[best_predictors[-i:]])\n",
    "    R2_scores.append(r2_score(y_test4, preds4))\n",
    "plt.plot(R2_scores)"
   ]
  },
  {
   "cell_type": "markdown",
   "metadata": {},
   "source": [
    "Sprawdźmy teraz czy indywidualne predyktory będą w stanie nam coś powiedzieć."
   ]
  },
  {
   "cell_type": "code",
   "execution_count": 138,
   "metadata": {},
   "outputs": [
    {
     "data": {
      "text/plain": [
       "[<matplotlib.lines.Line2D at 0x7feeb09f2048>]"
      ]
     },
     "execution_count": 138,
     "metadata": {},
     "output_type": "execute_result"
    },
    {
     "data": {
      "image/png": "[encoded data removed]",
      "text/plain": [
       "<Figure size 432x288 with 1 Axes>"
      ]
     },
     "metadata": {
      "needs_background": "light"
     },
     "output_type": "display_data"
    }
   ],
   "source": [
    "R2_scores = []\n",
    "X_train4, X_test4, y_train4, y_test4 = train_test_split(X, y)\n",
    "\n",
    "for i in range(0, len(best_predictors)):\n",
    "    \n",
    "    linmodel4= LinearRegression()\n",
    "    linmodel4.fit(pd.DataFrame(X_train4[best_predictors[i:i+1]]), y_train4)\n",
    "\n",
    "    preds4 = linmodel4.predict(pd.DataFrame(X_test4[best_predictors[i:i+1]]))\n",
    "    R2_scores.append(r2_score(y_test4, preds4))\n",
    "plt.plot(R2_scores)"
   ]
  },
  {
   "cell_type": "markdown",
   "metadata": {},
   "source": [
    "Powyższy wykres mówi, że kilka pierwszych zmiennych ()jest ważne - pozwolą nam w minimalnym stopniu przewidzieć ocenę prowadzącego. Uznajmy że zmienna z R2 powyżej 0.02 jest pomocna - ok. 15 pierwszych zmiennych jest informatywne."
   ]
  },
  {
   "cell_type": "markdown",
   "metadata": {},
   "source": [
    "## Najważniejsze predyktory"
   ]
  },
  {
   "cell_type": "code",
   "execution_count": 141,
   "metadata": {},
   "outputs": [
    {
     "name": "stdout",
     "output_type": "stream",
     "text": [
      "5 Najważniejszych zmiennych to:\n",
      "onecredit\n",
      "percentevaluating\n",
      "beautyfupperdiv\n",
      "btystdmu\n",
      "beautymupperdiv\n"
     ]
    }
   ],
   "source": [
    "print('5 Najważniejszych zmiennych, to:')\n",
    "for i in best_predictors[:5]:\n",
    "    print(i)"
   ]
  },
  {
   "cell_type": "code",
   "execution_count": 153,
   "metadata": {},
   "outputs": [
    {
     "name": "stdout",
     "output_type": "stream",
     "text": [
      "0.19320518947861143\n"
     ]
    }
   ],
   "source": [
    "R2_scores = []\n",
    "X_train5, X_test5, y_train5, y_test5 = train_test_split(X, y)\n",
    "\n",
    "linmodel5= LinearRegression()\n",
    "linmodel5.fit(X_train5[best_predictors[:5]], y_train5)\n",
    "\n",
    "preds5 = linmodel5.predict(X_test5[best_predictors[:5]])\n",
    "print(r2_score(y_test5, preds5))"
   ]
  },
  {
   "cell_type": "markdown",
   "metadata": {},
   "source": [
    "5 zmiennych wspomnianych wyżej pozwala osiągnąc wysokie R2, bliskie temu ze wszystkimi innymi zmiennymi. Są one więc najważniejsze. Wykres residuów dla nich:"
   ]
  },
  {
   "cell_type": "code",
   "execution_count": 165,
   "metadata": {},
   "outputs": [
    {
     "data": {
      "text/plain": [
       "<matplotlib.axes._subplots.AxesSubplot at 0x7feeb02905f8>"
      ]
     },
     "execution_count": 165,
     "metadata": {},
     "output_type": "execute_result"
    },
    {
     "data": {
      "image/png": "[encoded data removed]",
      "text/plain": [
       "<Figure size 432x288 with 1 Axes>"
      ]
     },
     "metadata": {
      "needs_background": "light"
     },
     "output_type": "display_data"
    }
   ],
   "source": [
    "resid5 = preds5 - y_test5\n",
    "sns.scatterplot(x=X_test5[best_predictors[1]], y=resid5)"
   ]
  },
  {
   "cell_type": "markdown",
   "metadata": {},
   "source": [
    "### Dopasowanie modelu"
   ]
  },
  {
   "cell_type": "code",
   "execution_count": 177,
   "metadata": {},
   "outputs": [
    {
     "data": {
      "text/plain": [
       "[<matplotlib.lines.Line2D at 0x7feeb0659cc0>]"
      ]
     },
     "execution_count": 177,
     "metadata": {},
     "output_type": "execute_result"
    },
    {
     "data": {
      "image/png": "[encoded data removed]",
      "text/plain": [
       "<Figure size 432x288 with 1 Axes>"
      ]
     },
     "metadata": {
      "needs_background": "light"
     },
     "output_type": "display_data"
    }
   ],
   "source": [
    "pred_sort['y_val'] = preds5\n",
    "pred_sort.sort_values(by='vals', inplace=True)\n",
    "\n",
    "plt.scatter(X_test5[best_predictors[1]], y_test5,  color='black')\n",
    "plt.plot([X_test5[best_predictors[1]].min(), X_test5[best_predictors[1]].max()], [preds5.min(), preds5.max()], color='blue', linewidth=3)"
   ]
  },
  {
   "cell_type": "markdown",
   "metadata": {},
   "source": [
    "## Model z interakcjami\n",
    "Predyktory - kilka najważniejszych cech jako jako zwykłe zmienna, osatnia jako interakcja w postaci iloczynu reszty cech."
   ]
  },
  {
   "cell_type": "code",
   "execution_count": 36,
   "metadata": {},
   "outputs": [
    {
     "name": "stdout",
     "output_type": "stream",
     "text": [
      "0.19185005538380073\n"
     ]
    }
   ],
   "source": [
    "newX = pd.DataFrame(data=X[best_predictors[5:]].prod(axis=1), columns=['Interaction'])\n",
    "newX[best_predictors[:5]] = X[best_predictors[:5]]\n",
    "\n",
    "\n",
    "X_train6, X_test6, y_train6, y_test6 = train_test_split(newX, y)\n",
    "\n",
    "\n",
    "linmodel6 = LinearRegression()\n",
    "linmodel6.fit(X_train6, y_train6)\n",
    "\n",
    "preds6 = linmodel6.predict(X_test6)\n",
    "print(r2_score(y_test6, preds6))"
   ]
  },
  {
   "cell_type": "markdown",
   "metadata": {},
   "source": [
    "Stosując interakcję jako iloczyn wszystkich mniej ważnych parametrów udało się osiągnąć podobne R2.\n",
    "\n",
    "## Objaśnienie parametrów \n",
    "\n",
    "Intercept - gdy wszystkie parametry mają zero, a w przypadku ustandaryzowanych danych, wartość oczekiwaną, model zwraca ten wynik.  \n",
    "Coef - jak każda główna składowa wpływa na wynik.  \n",
    "Objaśnienie to dotyczy każdego z poprzednich modeli regresji liniowej"
   ]
  },
  {
   "cell_type": "code",
   "execution_count": null,
   "metadata": {},
   "outputs": [],
   "source": []
  }
 ],
 "metadata": {
  "kernelspec": {
   "display_name": "Python 3",
   "language": "python",
   "name": "python3"
  },
  "language_info": {
   "codemirror_mode": {
    "name": "ipython",
    "version": 3
   },
   "file_extension": ".py",
   "mimetype": "text/x-python",
   "name": "python",
   "nbconvert_exporter": "python",
   "pygments_lexer": "ipython3",
   "version": "3.7.4"
  }
 },
 "nbformat": 4,
 "nbformat_minor": 2
}
