{
 "cells": [
  {
   "cell_type": "code",
   "execution_count": 10,
   "metadata": {},
   "outputs": [],
   "source": [
    "import pandas as pd\n",
    "import numpy as np\n",
    "import re\n",
    "\n",
    "import matplotlib.pyplot as plt\n",
    "import seaborn as sns"
   ]
  },
  {
   "cell_type": "code",
   "execution_count": 11,
   "metadata": {},
   "outputs": [],
   "source": [
    "def change_age_range(age_range):\n",
    "    if(len(age_range)==4):\n",
    "        return age_range[:2] + \"--\" + age_range[2:]\n",
    "    elif(len(age_range)==3):\n",
    "        return age_range[:1] + \"--\" + age_range[1:]\n",
    "    else:\n",
    "        return age_range + \"+\""
   ]
  },
  {
   "cell_type": "code",
   "execution_count": 12,
   "metadata": {},
   "outputs": [],
   "source": [
    "tb_df = pd.read_csv(\"../Original data/tb.csv\")\n",
    "\n",
    "tb_df = tb_df.rename(columns={'iso2':'country'})\n",
    "tb_df = tb_df.rename(columns=lambda x: re.sub('new_sp_','',x))\n",
    "tb_df = tb_df.drop(['new_sp', 'mu', 'fu', 'm04', 'f04', 'm514', 'f04', 'f514'], axis=1)\n",
    "tb_df = pd.melt(tb_df, id_vars=['country', 'year'], var_name='column', value_name='cases')\n",
    "tb_df['sex'] = tb_df[\"column\"].str[0]\n",
    "tb_df['age'] = tb_df[\"column\"].str[1:].apply(change_age_range)\n",
    "tb_df = tb_df.drop(['column'], axis=1)\n",
    "tb_df = tb_df[np.isfinite(tb_df['cases'])]\n",
    "tb_df['cases'] = tb_df['cases'].apply(lambda x: int(x))"
   ]
  },
  {
   "cell_type": "code",
   "execution_count": 15,
   "metadata": {},
   "outputs": [
    {
     "data": {
      "text/html": [
       "<div>\n",
       "<style scoped>\n",
       "    .dataframe tbody tr th:only-of-type {\n",
       "        vertical-align: middle;\n",
       "    }\n",
       "\n",
       "    .dataframe tbody tr th {\n",
       "        vertical-align: top;\n",
       "    }\n",
       "\n",
       "    .dataframe thead th {\n",
       "        text-align: right;\n",
       "    }\n",
       "</style>\n",
       "<table border=\"1\" class=\"dataframe\">\n",
       "  <thead>\n",
       "    <tr style=\"text-align: right;\">\n",
       "      <th></th>\n",
       "      <th>country</th>\n",
       "      <th>year</th>\n",
       "      <th>cases</th>\n",
       "      <th>sex</th>\n",
       "      <th>age</th>\n",
       "    </tr>\n",
       "  </thead>\n",
       "  <tbody>\n",
       "    <tr>\n",
       "      <td>0</td>\n",
       "      <td>AD</td>\n",
       "      <td>1996</td>\n",
       "      <td>0</td>\n",
       "      <td>m</td>\n",
       "      <td>0--14</td>\n",
       "    </tr>\n",
       "    <tr>\n",
       "      <td>1</td>\n",
       "      <td>AD</td>\n",
       "      <td>1997</td>\n",
       "      <td>0</td>\n",
       "      <td>m</td>\n",
       "      <td>0--14</td>\n",
       "    </tr>\n",
       "    <tr>\n",
       "      <td>2</td>\n",
       "      <td>AD</td>\n",
       "      <td>1998</td>\n",
       "      <td>0</td>\n",
       "      <td>m</td>\n",
       "      <td>0--14</td>\n",
       "    </tr>\n",
       "    <tr>\n",
       "      <td>3</td>\n",
       "      <td>AD</td>\n",
       "      <td>1999</td>\n",
       "      <td>0</td>\n",
       "      <td>m</td>\n",
       "      <td>0--14</td>\n",
       "    </tr>\n",
       "    <tr>\n",
       "      <td>4</td>\n",
       "      <td>AD</td>\n",
       "      <td>2000</td>\n",
       "      <td>0</td>\n",
       "      <td>m</td>\n",
       "      <td>0--14</td>\n",
       "    </tr>\n",
       "  </tbody>\n",
       "</table>\n",
       "</div>"
      ],
      "text/plain": [
       "  country  year  cases sex    age\n",
       "0      AD  1996      0   m  0--14\n",
       "1      AD  1997      0   m  0--14\n",
       "2      AD  1998      0   m  0--14\n",
       "3      AD  1999      0   m  0--14\n",
       "4      AD  2000      0   m  0--14"
      ]
     },
     "execution_count": 15,
     "metadata": {},
     "output_type": "execute_result"
    }
   ],
   "source": [
    "tb_df.reset_index(inplace=True)\n",
    "tb_df.drop(['index', 'level_0'], axis=1, inplace=True)\n",
    "tb_df.head()"
   ]
  },
  {
   "cell_type": "code",
   "execution_count": 16,
   "metadata": {},
   "outputs": [],
   "source": [
    "tb_df.to_csv(\"../Analysis data/tidy_tb.csv\")"
   ]
  },
  {
   "cell_type": "code",
   "execution_count": null,
   "metadata": {},
   "outputs": [],
   "source": []
  }
 ],
 "metadata": {
  "kernelspec": {
   "display_name": "Python 3",
   "language": "python",
   "name": "python3"
  },
  "language_info": {
   "codemirror_mode": {
    "name": "ipython",
    "version": 3
   },
   "file_extension": ".py",
   "mimetype": "text/x-python",
   "name": "python",
   "nbconvert_exporter": "python",
   "pygments_lexer": "ipython3",
   "version": "3.7.4"
  }
 },
 "nbformat": 4,
 "nbformat_minor": 2
}
